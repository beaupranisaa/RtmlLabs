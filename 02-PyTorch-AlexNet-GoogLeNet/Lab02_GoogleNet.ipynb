{
 "cells": [
  {
   "cell_type": "markdown",
   "id": "dying-chinese",
   "metadata": {},
   "source": [
    "# GoogLeNet"
   ]
  },
  {
   "cell_type": "markdown",
   "id": "criminal-terminology",
   "metadata": {},
   "source": [
    "In this section of Lab02, GoogLeNet model was implemented on the CIFAR-10 dataset. With the same data set, 2 versions of GoogLeNet were employed namely,\n",
    "\n",
    "1. GoogLeNet from scratch (GoogLeNet)\n",
    "2. Pretrained GoogLeNet\n",
    "\n",
    "Since the given architechture of GoogLeNet was not the same as what can be found on the original paper and also does not suit out problem (a 10-class classification problem), the modification of the architechture was necessary. The modification includes:\n",
    "\n",
    "e.g.\n",
    "* The number of output (from 1000 to  10 classes)\n",
    "* The input image size\n",
    "* The addition of a convolutional layer at pre_layers\n",
    "* The padding\n",
    "* Replacement of BatchNorm2d to Local-Response Normalization\n",
    "* The addition of the two auxiliary layers\n",
    "* The losses of auxiliary layers\n",
    "* etc.\n",
    "\n",
    "The two versions were impleneted with the exact same optimizer as well as the loss functions and they are as follows:\n",
    "\n",
    "* criterion = nn.CrossEntropyLoss()\n",
    "* optimizer = optim.SGD(model.parameters(), lr=0.001, momentum=0.9)\n",
    "\n",
    "The number of trainable parameters of each model are as follows:\n",
    "\n",
    "1. GoogLeNet has 10,635,134 trainable parameters\n",
    "2. Pretrained GooLeNet has 6,624,904 trainable parameters\n",
    "\n",
    "The models were both trained for 10 epochs with the batch size of 4 and their performace at the 10th epoch are:\n",
    "\n",
    "* GoogLeNet: Train acc = 91.58% , Val acc = 96.62% , Test acc = 86.77%\n",
    "* Pretrained GoogLeNet: Train acc = 97.98% , Val acc = 99.40% , Test acc = 93.60%\n",
    "\n",
    "NOTE: The comparison between GoogLeNet and AlexNet on CIFAR-10 and the comparison between GoogLeNet and Pretrained GoogLeNet can be found in the discussion section"
   ]
  },
  {
   "cell_type": "markdown",
   "id": "known-secretary",
   "metadata": {},
   "source": [
    "TASK: Note that the backbone of the GoogLeNet implemented thus far does not correspond exactly to the description. Modify the architecture to\n",
    "   1. Use the same backbone (input image size, convolutions, etc.) before the first Inception module\n",
    "   2. Add the two side classifiers"
   ]
  },
  {
   "cell_type": "markdown",
   "id": "level-nerve",
   "metadata": {},
   "source": [
    "#### Libaries"
   ]
  },
  {
   "cell_type": "code",
   "execution_count": 23,
   "id": "radical-somerset",
   "metadata": {},
   "outputs": [],
   "source": [
    "import torch\n",
    "import torchvision\n",
    "from torchvision import datasets, models, transforms\n",
    "import torch.nn as nn\n",
    "import torch.optim as optim\n",
    "import time\n",
    "import os\n",
    "import copy\n",
    "import torch.nn.functional as F"
   ]
  },
  {
   "cell_type": "markdown",
   "id": "included-democrat",
   "metadata": {},
   "source": [
    "### 1. Prepare data set"
   ]
  },
  {
   "cell_type": "code",
   "execution_count": 24,
   "id": "hairy-fever",
   "metadata": {},
   "outputs": [
    {
     "name": "stdout",
     "output_type": "stream",
     "text": [
      "Files already downloaded and verified\n",
      "Files already downloaded and verified\n"
     ]
    }
   ],
   "source": [
    "# Preprocess inputs to 3x32x32 with CIFAR-specific normalization parameters\n",
    "\n",
    "preprocess = transforms.Compose([\n",
    "    transforms.Resize(256),\n",
    "    transforms.CenterCrop(224),\n",
    "    transforms.ToTensor(),\n",
    "    transforms.Normalize((0.4914, 0.4822, 0.4465), (0.2023, 0.1994, 0.2010))]) #### NOTE FOR PRETRAIN\n",
    "\n",
    "# Download CIFAR-10 and set up train, validation, and test datasets with new preprocess object\n",
    "\n",
    "train_dataset = torchvision.datasets.CIFAR10(root='./data', train=True,\n",
    "                                            download=True, transform=preprocess)\n",
    "\n",
    "train_datset, val_dataset = torch.utils.data.random_split(train_dataset, [40000, 10000])\n",
    "\n",
    "test_dataset = torchvision.datasets.CIFAR10(root='./data', train=False,\n",
    "                                            download=True, transform=preprocess)\n",
    "\n",
    "# Create DataLoaders\n",
    "\n",
    "batch_size = 4\n",
    "\n",
    "train_dataloader = torch.utils.data.DataLoader(train_dataset, batch_size=batch_size,\n",
    "                                               shuffle=True, num_workers=2)\n",
    "val_dataloader = torch.utils.data.DataLoader(val_dataset, batch_size=batch_size,\n",
    "                                             shuffle=True, num_workers=2)\n",
    "test_dataloader = torch.utils.data.DataLoader(test_dataset, batch_size=batch_size,\n",
    "                                              shuffle=False, num_workers=2)"
   ]
  },
  {
   "cell_type": "markdown",
   "id": "formal-mother",
   "metadata": {},
   "source": [
    "### 2. Define Models"
   ]
  },
  {
   "cell_type": "markdown",
   "id": "ethical-newfoundland",
   "metadata": {},
   "source": [
    "#### 2.1 Inception Block"
   ]
  },
  {
   "cell_type": "code",
   "execution_count": 25,
   "id": "offensive-reservation",
   "metadata": {},
   "outputs": [],
   "source": [
    "class Inception(nn.Module):\n",
    "    '''\n",
    "    Inception block for a GoogLeNet-like CNN\n",
    "\n",
    "    Attributes\n",
    "    ----------\n",
    "    in_planes : int\n",
    "        Number of input feature maps\n",
    "    n1x1 : int\n",
    "        Number of direct 1x1 convolutions\n",
    "    n3x3red : int\n",
    "        Number of 1x1 reductions before the 3x3 convolutions\n",
    "    n3x3 : int\n",
    "        Number of 3x3 convolutions\n",
    "    n5x5red : int\n",
    "        Number of 1x1 reductions before the 5x5 convolutions\n",
    "    n5x5 : int\n",
    "        Number of 5x5 convolutions\n",
    "    pool_planes : int\n",
    "        Number of 1x1 convolutions after 3x3 max pooling\n",
    "    b1 : Sequential\n",
    "        First branch (direct 1x1 convolutions)\n",
    "    b2 : Sequential\n",
    "        Second branch (reduction then 3x3 convolutions)\n",
    "    b3 : Sequential\n",
    "        Third branch (reduction then 5x5 convolutions)\n",
    "    b4 : Sequential\n",
    "        Fourth branch (max pooling then reduction)\n",
    "    '''\n",
    "    \n",
    "    def __init__(self, in_planes, n1x1, n3x3red, n3x3, n5x5red, n5x5, pool_planes):\n",
    "        super(Inception, self).__init__()\n",
    "        self.in_planes = in_planes\n",
    "        self.n1x1 = n1x1\n",
    "        self.n3x3red = n3x3red\n",
    "        self.n3x3 = n3x3\n",
    "        self.n5x5red = n5x5red\n",
    "        self.n5x5 = n5x5\n",
    "        self.pool_planes = pool_planes\n",
    "        \n",
    "        # 1x1 conv branch\n",
    "        self.b1 = nn.Sequential(\n",
    "            nn.Conv2d(in_planes, n1x1, kernel_size=1),\n",
    "            nn.BatchNorm2d(n1x1),\n",
    "            nn.ReLU(True),\n",
    "        )\n",
    "\n",
    "        # 1x1 conv -> 3x3 conv branch\n",
    "        self.b2 = nn.Sequential(\n",
    "            nn.Conv2d(in_planes, n3x3red, kernel_size=1),\n",
    "            nn.BatchNorm2d(n3x3red),\n",
    "            nn.ReLU(True),\n",
    "            nn.Conv2d(n3x3red, n3x3, kernel_size=3, padding=1),\n",
    "            nn.BatchNorm2d(n3x3),\n",
    "            nn.ReLU(True),\n",
    "        )\n",
    "\n",
    "        # 1x1 conv -> 5x5 conv branch\n",
    "        self.b3 = nn.Sequential(\n",
    "            nn.Conv2d(in_planes, n5x5red, kernel_size=1),\n",
    "            nn.BatchNorm2d(n5x5red),\n",
    "            nn.ReLU(True),\n",
    "            nn.Conv2d(n5x5red, n5x5, kernel_size=3, padding=1),\n",
    "            nn.BatchNorm2d(n5x5),\n",
    "            nn.ReLU(True),\n",
    "            nn.Conv2d(n5x5, n5x5, kernel_size=3, padding=1),\n",
    "            nn.BatchNorm2d(n5x5),\n",
    "            nn.ReLU(True),\n",
    "        )\n",
    "\n",
    "        # 3x3 pool -> 1x1 conv branch\n",
    "        self.b4 = nn.Sequential(\n",
    "            nn.MaxPool2d(3, stride=1, padding=1),\n",
    "            nn.Conv2d(in_planes, pool_planes, kernel_size=1),\n",
    "            nn.BatchNorm2d(pool_planes),\n",
    "            nn.ReLU(True),\n",
    "        )\n",
    "            \n",
    "\n",
    "    def forward(self, x):\n",
    "        y1 = self.b1(x)\n",
    "        y2 = self.b2(x)\n",
    "        y3 = self.b3(x)\n",
    "        y4 = self.b4(x)\n",
    "        return torch.cat([y1, y2, y3, y4], 1) # <<<< dim 1 = channel"
   ]
  },
  {
   "cell_type": "markdown",
   "id": "canadian-irish",
   "metadata": {},
   "source": [
    "#### 2.2 Auxiliary Layers"
   ]
  },
  {
   "cell_type": "code",
   "execution_count": 26,
   "id": "tamil-array",
   "metadata": {},
   "outputs": [],
   "source": [
    "class Aux_layer(nn.Module):\n",
    "    def __init__(self, position):    \n",
    "        super(Aux_layer, self).__init__()\n",
    "        \n",
    "        self.avgpool = nn.AvgPool2d(5, stride=3) \n",
    "        self.position = position\n",
    "        \n",
    "        if self.position == 'a4':\n",
    "            self.conv = nn.Sequential(nn.Conv2d(512,128,kernel_size = 1,stride = 1), nn.ReLU(True))   \n",
    "        else:\n",
    "            self.conv = nn.Sequential(nn.Conv2d(528,128,kernel_size = 1,stride = 1), nn.ReLU(True))   \n",
    "\n",
    "        self.fc1 = nn.Sequential(nn.Linear(2048, 1024), nn.ReLU(True), nn.Dropout(0.7))\n",
    "        self.fc2 = nn.Linear(1024, 10)\n",
    "    \n",
    "    def forward(self,x):\n",
    "        aux = self.avgpool(x)\n",
    "        aux = self.conv(aux)\n",
    "#         print(f'aux conv: {aux.shape}')\n",
    "        aux = aux.flatten(start_dim = 1)\n",
    "#         print(f'aux: {aux.shape}')\n",
    "        aux = self.fc1(aux)\n",
    "        aux = self.fc2(aux)\n",
    "        return aux"
   ]
  },
  {
   "cell_type": "markdown",
   "id": "responsible-minority",
   "metadata": {},
   "source": [
    "#### 2.3 GoogLeNet"
   ]
  },
  {
   "cell_type": "code",
   "execution_count": 27,
   "id": "dominican-round",
   "metadata": {},
   "outputs": [],
   "source": [
    "class GoogLeNet(nn.Module):\n",
    "    '''\n",
    "    GoogLeNet-like CNN\n",
    "\n",
    "    Attributes\n",
    "    ----------\n",
    "    pre_layers : Sequential\n",
    "        Initial convolutional layer\n",
    "    a3 : Inception\n",
    "        First inception block\n",
    "    b3 : Inception\n",
    "        Second inception block\n",
    "    maxpool : MaxPool2d\n",
    "        Pooling layer after second inception block\n",
    "    a4 : Inception\n",
    "        Third inception block\n",
    "    b4 : Inception\n",
    "        Fourth inception block\n",
    "    c4 : Inception\n",
    "        Fifth inception block\n",
    "    d4 : Inception\n",
    "        Sixth inception block\n",
    "    e4 : Inception\n",
    "        Seventh inception block\n",
    "    a5 : Inception\n",
    "        Eighth inception block\n",
    "    b5 : Inception\n",
    "        Ninth inception block\n",
    "    avgpool : AvgPool2d\n",
    "        Average pool layer after final inception block\n",
    "    linear : Linear\n",
    "        Fully connected layer\n",
    "    '''\n",
    "\n",
    "    def __init__(self):\n",
    "        super(GoogLeNet, self).__init__()\n",
    "        \n",
    "        self.is_debug = False\n",
    "        \n",
    "        self.pre_layers = nn.Sequential(\n",
    "            nn.Conv2d(3,64, kernel_size=7, stride =2, padding =3),\n",
    "            nn.ReLU(True),\n",
    "            nn.MaxPool2d(3, stride =2, padding = 1),\n",
    "            nn.LocalResponseNorm(5, alpha = 0.0001, beta = 0.75, k = 2.0),\n",
    "            nn.Conv2d(64, 64, kernel_size=1),\n",
    "            nn.ReLU(True),\n",
    "            nn.Conv2d(64, 192, kernel_size=3, stride = 1, padding=1),\n",
    "            nn.ReLU(True),\n",
    "            nn.LocalResponseNorm(5, alpha = 0.0001, beta = 0.75, k = 2.0),              \n",
    "            nn.MaxPool2d(3, stride =2, padding =1),\n",
    "        )\n",
    "\n",
    "        self.a3 = Inception(192,  64,  96, 128, 16, 32, 32)\n",
    "        self.b3 = Inception(256, 128, 128, 192, 32, 96, 64)\n",
    "\n",
    "        self.maxpool = nn.MaxPool2d(3, stride=2, padding=1)\n",
    "\n",
    "        self.a4 = Inception(480, 192,  96, 208, 16,  48,  64)\n",
    "        self.b4 = Inception(512, 160, 112, 224, 24,  64,  64)\n",
    "        self.c4 = Inception(512, 128, 128, 256, 24,  64,  64)\n",
    "        self.d4 = Inception(512, 112, 144, 288, 32,  64,  64)\n",
    "        self.e4 = Inception(528, 256, 160, 320, 32, 128, 128)\n",
    "\n",
    "        self.a5 = Inception(832, 256, 160, 320, 32, 128, 128)\n",
    "        self.b5 = Inception(832, 384, 192, 384, 48, 128, 128)\n",
    "\n",
    "        self.avgpool= nn.AvgPool2d(7, stride=1) ## orig = 8\n",
    "        self.dropout = nn.Dropout(0.4)\n",
    "        self.linear = nn.Linear(1024, 10)\n",
    "        \n",
    "        self.aux_a4 = Aux_layer('a4')\n",
    "        self.aux_d4 = Aux_layer('d4')\n",
    "    \n",
    "    def forward(self, x):\n",
    "        out = self.pre_layers(x)\n",
    "        \n",
    "        if self.is_debug : print(f'pre-layer: {out.shape}')\n",
    "            \n",
    "        out = self.a3(out)\n",
    "        if self.is_debug : print(f'a3: {out.shape}')\n",
    "            \n",
    "        out = self.b3(out)\n",
    "        if self.is_debug : print(f'b3 :{out.shape}')\n",
    "            \n",
    "        out = self.maxpool(out)\n",
    "        if self.is_debug : print(f'maxpool: {out.shape}')\n",
    "            \n",
    "        out = self.a4(out)\n",
    "        if self.is_debug : print(f'a4: {out.shape}')\n",
    "            \n",
    "        aux_a4 = self.aux_a4(out)\n",
    "        out = self.b4(out)\n",
    "        if self.is_debug : print(f'b4 : {out.shape}')\n",
    "            \n",
    "        out = self.c4(out)\n",
    "        if self.is_debug : print(f'c4 : {out.shape}') \n",
    "            \n",
    "        out = self.d4(out)\n",
    "        if self.is_debug : print(f'd4 : {out.shape}')\n",
    "            \n",
    "        aux_d4 = self.aux_d4(out)\n",
    "        out = self.e4(out)\n",
    "        if self.is_debug : print(f'e4 : {out.shape}')\n",
    "            \n",
    "        out = self.maxpool(out)\n",
    "        if self.is_debug : print(f'maxpool : {out.shape}')\n",
    "            \n",
    "        out = self.a5(out)\n",
    "        if self.is_debug : print(f'a5 : {out.shape}')\n",
    "            \n",
    "        out = self.b5(out)\n",
    "        if self.is_debug : print(f'b5 : {out.shape}')\n",
    "            \n",
    "        out = self.avgpool(out)\n",
    "        if self.is_debug : print(f'avgpool : {out.shape}')\n",
    "            \n",
    "        out = self.dropout(out)\n",
    "        out = out.view(out.size(0), -1)\n",
    "        out = self.linear(out)\n",
    "        \n",
    "        if self.training == True:\n",
    "            return out, aux_a4, aux_d4\n",
    "        else:\n",
    "            return out\n"
   ]
  },
  {
   "cell_type": "markdown",
   "id": "suspended-aruba",
   "metadata": {},
   "source": [
    "### 3. Define Train and Evaluation Functions"
   ]
  },
  {
   "cell_type": "code",
   "execution_count": 28,
   "id": "wired-creativity",
   "metadata": {},
   "outputs": [],
   "source": [
    "def train_model(model, dataloaders, criterion, optimizer, num_epochs=25, weights_name='weight_save', is_inception=False):\n",
    "    '''\n",
    "    train_model function\n",
    "\n",
    "    Train a PyTorch model for a given number of epochs.\n",
    "    \n",
    "            Parameters:\n",
    "                    model: Pytorch model\n",
    "                    dataloaders: dataset\n",
    "                    criterion: loss function\n",
    "                    optimizer: update weights function\n",
    "                    num_epochs: number of epochs\n",
    "                    weights_name: file name to save weights\n",
    "                    is_inception: The model is inception net (Google LeNet) or not\n",
    "\n",
    "            Returns:\n",
    "                    model: Best model from evaluation result\n",
    "                    val_acc_history: evaluation accuracy history\n",
    "                    loss_acc_history: loss value history\n",
    "    '''\n",
    "    since = time.time()\n",
    "\n",
    "    val_acc_history = []\n",
    "    loss_acc_history = []\n",
    "\n",
    "    best_model_wts = copy.deepcopy(model.state_dict())\n",
    "    best_acc = 0.0\n",
    "\n",
    "    for epoch in range(num_epochs):\n",
    "        epoch_start = time.time()\n",
    "\n",
    "        if (epoch+1) % 5 == 0:\n",
    "            print('Epoch {}/{}'.format(epoch, num_epochs - 1))\n",
    "            print('-' * 10)\n",
    "\n",
    "        # Each epoch has a training and validation phase\n",
    "        for phase in ['train', 'val']:\n",
    "            if phase == 'train':\n",
    "                model.train()  # Set model to training mode\n",
    "            else:\n",
    "                model.eval()   # Set model to evaluate mode\n",
    "\n",
    "            running_loss = 0.0\n",
    "            running_corrects = 0\n",
    "\n",
    "            # Iterate over the train/validation dataset according to which phase we're in\n",
    "            \n",
    "            for inputs, labels in dataloaders[phase]:\n",
    "\n",
    "                # Inputs is one batch of input images, and labels is a corresponding vector of integers\n",
    "                # labeling each image in the batch. First, we move these tensors to our target device.\n",
    "                \n",
    "                inputs = inputs.to(device)\n",
    "                labels = labels.to(device)\n",
    "\n",
    "                # Zero out any parameter gradients that have previously been calculated. Parameter\n",
    "                # gradients accumulate over as many backward() passes as we let them, so they need\n",
    "                # to be zeroed out after each optimizer step.\n",
    "\n",
    "                optimizer.zero_grad()\n",
    "\n",
    "                # Instruct PyTorch to track gradients only if this is the training phase, then run the\n",
    "                # forward propagation and optionally the backward propagation step for this iteration.\n",
    "\n",
    "                with torch.set_grad_enabled(phase == 'train'):\n",
    "                    # The inception model is a special case during training because it has an auxiliary\n",
    "                    # output used to encourage discriminative representations in the deeper feature maps.\n",
    "                    # We need to calculate loss for both outputs. Otherwise, we have a single output to\n",
    "                    # calculate the loss on.\n",
    "                    \n",
    "                    if is_inception and phase == 'train':\n",
    "                        # From https://discuss.pytorch.org/t/how-to-optimize-inception-model-with-auxiliary-classifiers/7958\n",
    "                        outputs, aux_a4, aux_d4 = model(inputs)\n",
    "                        loss1 = criterion(outputs, labels)\n",
    "                        loss2 = criterion(aux_a4, labels)\n",
    "                        loss3 = criterion(aux_d4, labels)\n",
    "                        loss = loss1 + 0.3*(loss2+loss3)\n",
    "#                     elif is_inception and weights_name == 'GoogLeNet' and phase == 'val':\n",
    "#                         outputs, _, _ = model(inputs) #,_,_ or in the forward()\n",
    "#                         loss = criterion(outputs, labels)\n",
    "                    else:\n",
    "                        outputs = model(inputs) #,_,_ or in the forward()\n",
    "                        loss = criterion(outputs, labels)            \n",
    "                    \n",
    "                    outputs = nn.functional.softmax(outputs, dim=1)        \n",
    "                    _, preds = torch.max(outputs, 1) # returns (values, indices)\n",
    "\n",
    "                    # Backpropagate only if in training phase\n",
    "\n",
    "                    if phase == 'train':\n",
    "                        loss.backward()\n",
    "                        optimizer.step()\n",
    "\n",
    "                # Gather our summary statistics\n",
    "                \n",
    "                running_loss += loss.item() * inputs.size(0)\n",
    "                running_corrects += torch.sum(preds == labels.data)\n",
    "\n",
    "            epoch_loss = running_loss / len(dataloaders[phase].dataset)\n",
    "            epoch_acc = running_corrects.double() / len(dataloaders[phase].dataset)\n",
    "            epoch_end = time.time()\n",
    "            \n",
    "            elapsed_epoch = epoch_end - epoch_start\n",
    "            \n",
    "            if (epoch+1) % 5 == 0:\n",
    "                print('{} Loss: {:.4f} Acc: {:.4f}'.format(phase, epoch_loss, epoch_acc))\n",
    "                print(\"Epoch time taken: \", elapsed_epoch)\n",
    "    \n",
    "            # If this is the best model on the validation set so far, deep copy it\n",
    "\n",
    "            if phase == 'val' and epoch_acc > best_acc:\n",
    "                best_acc = epoch_acc\n",
    "                best_model_wts = copy.deepcopy(model.state_dict())\n",
    "                torch.save(model.state_dict(), weights_name + \".pth\")\n",
    "            if phase == 'val':\n",
    "                val_acc_history.append(epoch_acc)\n",
    "            if phase == 'train':\n",
    "                loss_acc_history.append(epoch_loss)\n",
    "\n",
    "#         print()\n",
    "\n",
    "    # Output summary statistics, load the best weight set, and return results\n",
    "    \n",
    "    time_elapsed = time.time() - since\n",
    "    print('Training complete in {:.0f}m {:.0f}s'.format(time_elapsed // 60, time_elapsed % 60))\n",
    "    print('Best val Acc: {:4f}'.format(best_acc))\n",
    "    model.load_state_dict(best_model_wts)\n",
    "    return model, val_acc_history, loss_acc_history"
   ]
  },
  {
   "cell_type": "code",
   "execution_count": 29,
   "id": "impossible-likelihood",
   "metadata": {},
   "outputs": [],
   "source": [
    "def evaluate(model, iterator, criterion,model_name):\n",
    "    \n",
    "    total = 0\n",
    "    correct = 0\n",
    "    epoch_loss = 0\n",
    "    epoch_acc = 0\n",
    "    \n",
    "    predicteds = []\n",
    "    trues = []\n",
    "    \n",
    "    model.eval()\n",
    "    \n",
    "    with torch.no_grad():\n",
    "    \n",
    "        for batch, labels in iterator:\n",
    "            \n",
    "            #Move tensors to the configured device\n",
    "            batch = batch.to(device)\n",
    "            labels = labels.to(device)\n",
    "\n",
    "            predictions = model(batch.float())\n",
    "                \n",
    "            loss = criterion(predictions, labels.long())\n",
    "            \n",
    "            predictions = nn.functional.softmax(predictions, dim=1)            \n",
    "            _, predicted = torch.max(predictions.data, 1)  #returns max value, indices\n",
    "                       \n",
    "            predicteds.append(predicted)\n",
    "            trues.append(labels)            \n",
    "            total += labels.size(0)  #keep track of total\n",
    "            correct += (predicted == labels).sum().item()  #.item() give the raw number\n",
    "            acc = 100 * (correct / total)\n",
    "            \n",
    "            epoch_loss += loss.item()\n",
    "            epoch_acc += acc\n",
    "        \n",
    "    return epoch_loss / len(iterator), epoch_acc / len(iterator),predicteds, trues"
   ]
  },
  {
   "cell_type": "code",
   "execution_count": 30,
   "id": "extraordinary-digit",
   "metadata": {},
   "outputs": [],
   "source": [
    "import matplotlib.pyplot as plt\n",
    "\n",
    "def plot_data(val_acc_history, loss_acc_history):\n",
    "    plt.plot(loss_acc_history, label = 'Validation')\n",
    "    plt.title('Loss per epoch')\n",
    "    plt.legend()\n",
    "    plt.show()\n",
    "    plt.plot(val_acc_history, label = 'Validation')\n",
    "    plt.title('Accuracy per epoch')\n",
    "    plt.legend()\n",
    "    plt.show()"
   ]
  },
  {
   "cell_type": "markdown",
   "id": "shaped-central",
   "metadata": {},
   "source": [
    "### 4. Train the models"
   ]
  },
  {
   "cell_type": "markdown",
   "id": "standard-round",
   "metadata": {},
   "source": [
    "#### 4.1 Define models to train"
   ]
  },
  {
   "cell_type": "code",
   "execution_count": 43,
   "id": "equipped-activity",
   "metadata": {},
   "outputs": [
    {
     "name": "stderr",
     "output_type": "stream",
     "text": [
      "Using cache found in /root/.cache/torch/hub/pytorch_vision_v0.6.0\n"
     ]
    }
   ],
   "source": [
    "googlenet = GoogLeNet()\n",
    "googlenet_pre = torch.hub.load('pytorch/vision:v0.6.0', 'googlenet', pretrained=True, aux_logits = True)\n",
    "#change the last output to be 10 classes\n",
    "googlenet_pre.fc = nn.Linear(1024,10)\n",
    "models = [googlenet, googlenet_pre]\n",
    "model_names = ['GoogLeNet', 'Pretrained GoogLeNet']\n",
    "# models = [googlenet_pre]\n",
    "# model_names = ['Pretrained GoogLeNet']"
   ]
  },
  {
   "cell_type": "markdown",
   "id": "motivated-guitar",
   "metadata": {},
   "source": [
    "#### 4.2 Loss and Optimizer Functions"
   ]
  },
  {
   "cell_type": "code",
   "execution_count": 44,
   "id": "passive-venezuela",
   "metadata": {},
   "outputs": [],
   "source": [
    "criterion = nn.CrossEntropyLoss()\n",
    "\n",
    "optimizers = []\n",
    "for model in models:\n",
    "    optimizer = optim.SGD(model.parameters(), lr=0.001, momentum=0.9)\n",
    "    optimizers.append(optimizer)"
   ]
  },
  {
   "cell_type": "markdown",
   "id": "committed-scale",
   "metadata": {},
   "source": [
    "#### 4.2 Move everything to the configured device"
   ]
  },
  {
   "cell_type": "markdown",
   "id": "dramatic-falls",
   "metadata": {},
   "source": [
    "##### Let's check the availability of GPU..."
   ]
  },
  {
   "cell_type": "code",
   "execution_count": 45,
   "id": "endangered-motion",
   "metadata": {},
   "outputs": [
    {
     "name": "stdout",
     "output_type": "stream",
     "text": [
      "Configured device:  cuda:1\n"
     ]
    }
   ],
   "source": [
    "from chosen_gpu import get_freer_gpu\n",
    "device = torch.device(get_freer_gpu()) if torch.cuda.is_available() else torch.device(\"cpu\")\n",
    "print(\"Configured device: \", device)"
   ]
  },
  {
   "cell_type": "code",
   "execution_count": 46,
   "id": "assumed-banner",
   "metadata": {},
   "outputs": [],
   "source": [
    "for model in models:\n",
    "    model = model.to(device)\n",
    "    \n",
    "criterion = criterion.to(device)"
   ]
  },
  {
   "cell_type": "markdown",
   "id": "pretty-netscape",
   "metadata": {},
   "source": [
    "#### 4.3 Count the parameters"
   ]
  },
  {
   "cell_type": "code",
   "execution_count": 47,
   "id": "cardiac-nicholas",
   "metadata": {},
   "outputs": [
    {
     "name": "stdout",
     "output_type": "stream",
     "text": [
      "The model GoogLeNet has 10,635,134 trainable parameters\n",
      "The model Pretrained GoogLeNet has 11,990,138 trainable parameters\n"
     ]
    }
   ],
   "source": [
    "def count_parameters(model):\n",
    "    return sum(p.numel() for p in model.parameters() if p.requires_grad)\n",
    "\n",
    "for i,model in enumerate(models):\n",
    "    print(f'The model {model_names[i]} has {count_parameters(model):,} trainable parameters')# Train the model"
   ]
  },
  {
   "cell_type": "markdown",
   "id": "silent-spotlight",
   "metadata": {},
   "source": [
    "#### 4.4 Prepare the dataloader"
   ]
  },
  {
   "cell_type": "code",
   "execution_count": 36,
   "id": "legislative-coral",
   "metadata": {},
   "outputs": [],
   "source": [
    "dataloaders = { 'train': train_dataloader, 'val': val_dataloader }"
   ]
  },
  {
   "cell_type": "markdown",
   "id": "delayed-opposition",
   "metadata": {},
   "source": [
    "#### 4.5 Train the models"
   ]
  },
  {
   "cell_type": "code",
   "execution_count": 20,
   "id": "active-greeting",
   "metadata": {},
   "outputs": [
    {
     "name": "stdout",
     "output_type": "stream",
     "text": [
      "Training: GoogLeNet\n",
      "Epoch 4/9\n",
      "----------\n",
      "train Loss: 0.9656 Acc: 0.8094\n",
      "Epoch time taken:  1312.412663936615\n",
      "val Loss: 0.3936 Acc: 0.8636\n",
      "Epoch time taken:  1387.3063054084778\n",
      "Epoch 9/9\n",
      "----------\n",
      "train Loss: 0.4886 Acc: 0.9158\n",
      "Epoch time taken:  1246.7739770412445\n",
      "val Loss: 0.1084 Acc: 0.9662\n",
      "Epoch time taken:  1339.1904847621918\n",
      "Training complete in 228m 49s\n",
      "Best val Acc: 0.966200\n"
     ]
    },
    {
     "data": {
      "image/png": "[encoded data removed]",
      "text/plain": [
       "<matplotlib.figure.Figure at 0x7f370a2ab080>"
      ]
     },
     "metadata": {
      "needs_background": "light"
     },
     "output_type": "display_data"
    },
    {
     "data": {
      "image/png": "[encoded data removed]",
      "text/plain": [
       "<matplotlib.figure.Figure at 0x7f35acd30828>"
      ]
     },
     "metadata": {
      "needs_background": "light"
     },
     "output_type": "display_data"
    }
   ],
   "source": [
    "print(f'Training: {model_names[0]}')\n",
    "best_model, val_acc_history, loss_acc_history = train_model(models[0], dataloaders, criterion, optimizers[0], 10, model_names[0],is_inception=True )\n",
    "plot_data(val_acc_history, loss_acc_history)"
   ]
  },
  {
   "cell_type": "code",
   "execution_count": 38,
   "id": "interesting-compound",
   "metadata": {},
   "outputs": [
    {
     "name": "stdout",
     "output_type": "stream",
     "text": [
      "Training: Pretrained GoogLeNet\n",
      "Epoch 4/9\n",
      "----------\n",
      "train Loss: 0.4255 Acc: 0.9400\n",
      "Epoch time taken:  1023.3844466209412\n",
      "val Loss: 0.0772 Acc: 0.9757\n",
      "Epoch time taken:  1086.9910814762115\n",
      "Epoch 9/9\n",
      "----------\n",
      "train Loss: 0.1957 Acc: 0.9798\n",
      "Epoch time taken:  1048.2613151073456\n",
      "val Loss: 0.0192 Acc: 0.9940\n",
      "Epoch time taken:  1116.5802915096283\n",
      "Training complete in 179m 42s\n",
      "Best val Acc: 0.994000\n"
     ]
    },
    {
     "data": {
      "image/png": "[encoded data removed]",
      "text/plain": [
       "<matplotlib.figure.Figure at 0x7f372ebd3358>"
      ]
     },
     "metadata": {
      "needs_background": "light"
     },
     "output_type": "display_data"
    },
    {
     "data": {
      "image/png": "[encoded data removed]",
      "text/plain": [
       "<matplotlib.figure.Figure at 0x7f3599260ba8>"
      ]
     },
     "metadata": {
      "needs_background": "light"
     },
     "output_type": "display_data"
    }
   ],
   "source": [
    "print(f'Training: {model_names[1]}')\n",
    "best_model, val_acc_history, loss_acc_history = train_model(models[1], dataloaders, criterion, optimizers[1], 10, model_names[1],is_inception=True )\n",
    "plot_data(val_acc_history, loss_acc_history)"
   ]
  },
  {
   "cell_type": "markdown",
   "id": "coastal-explosion",
   "metadata": {},
   "source": [
    "### 5. Results"
   ]
  },
  {
   "cell_type": "code",
   "execution_count": 39,
   "id": "exotic-interference",
   "metadata": {},
   "outputs": [
    {
     "name": "stdout",
     "output_type": "stream",
     "text": [
      "Model: GoogLeNet\n",
      "Test Loss: 0.408 | Test Acc: 86.77%\n",
      "Model: Pretrained GoogLeNet\n",
      "Test Loss: 0.238 | Test Acc: 93.60%\n"
     ]
    }
   ],
   "source": [
    "for i, model in enumerate(models):\n",
    "    print(f'Model: {model_names[i]}')\n",
    "    model.load_state_dict(torch.load(f'{model_names[i]}.pth'))\n",
    "    test_loss, test_acc, test_pred_label, test_true_label  = evaluate(model, test_dataloader, criterion, model_names[i])\n",
    "    print(f'Test Loss: {test_loss:.3f} | Test Acc: {test_acc:.2f}%')"
   ]
  }
 ],
 "metadata": {
  "kernelspec": {
   "display_name": "Python 3",
   "language": "python",
   "name": "python3"
  },
  "language_info": {
   "codemirror_mode": {
    "name": "ipython",
    "version": 3
   },
   "file_extension": ".py",
   "mimetype": "text/x-python",
   "name": "python",
   "nbconvert_exporter": "python",
   "pygments_lexer": "ipython3",
   "version": "3.6.9"
  }
 },
 "nbformat": 4,
 "nbformat_minor": 5
}
