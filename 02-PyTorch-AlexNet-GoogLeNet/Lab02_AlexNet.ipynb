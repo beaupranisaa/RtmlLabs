{
 "cells": [
  {
   "cell_type": "markdown",
   "id": "loving-senate",
   "metadata": {},
   "source": [
    "## Lab02 Report"
   ]
  },
  {
   "cell_type": "markdown",
   "id": "norman-salon",
   "metadata": {},
   "source": [
    "##### Pranisaa Charnparttaravanit st121720"
   ]
  },
  {
   "cell_type": "markdown",
   "id": "early-niagara",
   "metadata": {},
   "source": [
    "## AlexNet"
   ]
  },
  {
   "cell_type": "markdown",
   "id": "african-suspension",
   "metadata": {},
   "source": [
    "In this section of Lab02, AlexNet model was implemented on the CIFAR-10 dataset. It is important to note that under this lab reports, there will be in the total of 4 versions of the AlexNet and they are as follows:\n",
    "\n",
    "1. AlexNet with Sequential API (AlexNet Sequential)\n",
    "2. AlexNet with Sequential API with Local-Response Normalization (AlexNet Sequential with LRN )\n",
    "3. AlexNet with nn.Module (AlexNet nn.Module)\n",
    "4. AlexNet with nn.Module with Local-Response Normalization (AlexNet nn.Module with LRN)\n",
    "\n",
    "All 4 variations of AlexNet employed the exact same optimizer as well as the loss functions which are as follows:\n",
    "\n",
    "* criterion = nn.CrossEntropyLoss()\n",
    "* optimizer = optim.SGD(model.parameters(), lr=0.001, momentum=0.9)\n",
    "\n",
    "The number of trainable parameters of each model is as follows:\n",
    "\n",
    "1. AlexNet Sequential has 58,322,314 trainable parameters\n",
    "2. AlexNet Sequential with LRN has 58,322,314 trainable parameters\n",
    "3. AlexNet nn.Module has 57,044,810 trainable parameters\n",
    "4. AlexNet nn.Module with LRN has 57,044,810 trainable parameter\n",
    "\n",
    "The models were trained for 10 epochs with the batch size of 4 and the performances at the 10th epoch of each model and the test accuracies are as follows:\n",
    "\n",
    "* AlexNet Sequential: Train acc = 86.32%, Val acc = 77.06%, Test acc = 79.20%\n",
    "* AlexNet Sequential with LRN: Train acc = 87.66%, Val acc = 79.43%, Test acc = 80.22%\n",
    "* AlexNet nn.Module: Train acc = 86.83%, Val acc = 79.37% , Test acc = 79.96%\n",
    "* AlexNet nn.Module with LRN: Train acc = 85.11%, Val acc = 74.90% , Test acc = 77.05%\n",
    "\n",
    "NOTE: The comparison between the test set results can be found at the discussion section below"
   ]
  },
  {
   "cell_type": "markdown",
   "id": "alike-attribute",
   "metadata": {},
   "source": [
    "#### Libaries"
   ]
  },
  {
   "cell_type": "code",
   "execution_count": 1,
   "id": "applicable-bread",
   "metadata": {},
   "outputs": [],
   "source": [
    "import torch\n",
    "import torchvision\n",
    "from torchvision import datasets, models, transforms\n",
    "import torch.nn as nn\n",
    "import torch.optim as optim\n",
    "import time\n",
    "import os\n",
    "import copy\n",
    "import torch.nn.functional as F\n",
    "from IPython.display import clear_output"
   ]
  },
  {
   "cell_type": "markdown",
   "id": "acting-feelings",
   "metadata": {},
   "source": [
    "### 1. Prepare Dataset"
   ]
  },
  {
   "cell_type": "code",
   "execution_count": 2,
   "id": "equal-spending",
   "metadata": {},
   "outputs": [
    {
     "name": "stdout",
     "output_type": "stream",
     "text": [
      "Files already downloaded and verified\n",
      "Files already downloaded and verified\n"
     ]
    }
   ],
   "source": [
    "preprocess = transforms.Compose([\n",
    "    transforms.Resize(256),\n",
    "    transforms.CenterCrop(224),\n",
    "    transforms.ToTensor(),\n",
    "    transforms.Normalize((0.4914, 0.4822, 0.4465), (0.2023, 0.1994, 0.2010))])\n",
    "\n",
    "# Download CIFAR-10 and split into training, validation, and test sets\n",
    "\n",
    "train_dataset = torchvision.datasets.CIFAR10(root='./data', train=True,\n",
    "                                             download=True, transform=preprocess)\n",
    "\n",
    "# Split the training set into training and validation sets randomly.\n",
    "# CIFAR-10 train contains 50,000 examples, so let's split 80%/20%.\n",
    "\n",
    "train_dataset, val_dataset = torch.utils.data.random_split(train_dataset, [40000, 10000])\n",
    "\n",
    "# Download the test set. If you use data augmentation transforms for the training set,\n",
    "# you'll want to use a different transformer here.\n",
    "\n",
    "test_dataset = torchvision.datasets.CIFAR10(root='./data', train=False,\n",
    "                                            download=True, transform=preprocess)\n",
    "train_dataloader = torch.utils.data.DataLoader(train_dataset, batch_size=4,\n",
    "                                               shuffle=True, num_workers=2)\n",
    "val_dataloader = torch.utils.data.DataLoader(val_dataset, batch_size=4,\n",
    "                                             shuffle=False, num_workers=2)\n",
    "test_dataloader = torch.utils.data.DataLoader(test_dataset, batch_size=4,\n",
    "                                              shuffle=False, num_workers=2)"
   ]
  },
  {
   "cell_type": "code",
   "execution_count": 3,
   "id": "leading-raise",
   "metadata": {},
   "outputs": [
    {
     "name": "stdout",
     "output_type": "stream",
     "text": [
      "Configured device:  cuda:2\n"
     ]
    }
   ],
   "source": [
    "from chosen_gpu import get_freer_gpu\n",
    "device = torch.device(get_freer_gpu()) if torch.cuda.is_available() else torch.device(\"cpu\")\n",
    "print(\"Configured device: \", device)"
   ]
  },
  {
   "cell_type": "markdown",
   "id": "personalized-heart",
   "metadata": {},
   "source": [
    "### 2. Define models"
   ]
  },
  {
   "cell_type": "markdown",
   "id": "apart-burton",
   "metadata": {},
   "source": [
    "#### 2.1 AlexNet with Sequential API with no LRN"
   ]
  },
  {
   "cell_type": "code",
   "execution_count": 4,
   "id": "split-ecology",
   "metadata": {},
   "outputs": [],
   "source": [
    "# Simple module to flatten a batched feature map tensor into a batched vector tensor\n",
    "\n",
    "class Flatten(nn.Module):\n",
    "    def forward(self, x):\n",
    "        batch_size = x.shape[0]\n",
    "        return x.view(batch_size, -1)\n",
    "\n",
    "# AlexNet-like model using the Sequential API\n",
    "\n",
    "NUM_CLASSES = 10\n",
    "\n",
    "alexnet_sequential = nn.Sequential(\n",
    "    \n",
    "    nn.Conv2d(3, 96, kernel_size=11, stride=4, padding=2),\n",
    "    nn.ReLU(inplace=True),\n",
    "    nn.MaxPool2d(kernel_size=3, stride=2),\n",
    "    \n",
    "    nn.Conv2d(96, 256, kernel_size=5, padding=2),\n",
    "    nn.ReLU(inplace=True),\n",
    "    nn.MaxPool2d(kernel_size=3, stride=2),\n",
    "    \n",
    "    nn.Conv2d(256, 384, kernel_size=3, padding=1),\n",
    "    nn.ReLU(inplace=True),\n",
    "    \n",
    "    nn.Conv2d(384, 384, kernel_size=3, padding=1),\n",
    "    nn.ReLU(inplace=True),\n",
    "    \n",
    "    nn.Conv2d(384, 256, kernel_size=3, padding=1),\n",
    "    nn.ReLU(inplace=True),\n",
    "    nn.MaxPool2d(kernel_size=3, stride=2),\n",
    "    \n",
    "    nn.AdaptiveAvgPool2d((6, 6)),   #<<<< do anything to get 6*6 any featrue maps!\n",
    "    Flatten(),\n",
    "    nn.Dropout(),\n",
    "    nn.Linear(256 * 6 * 6, 4096),\n",
    "    nn.ReLU(inplace=True),\n",
    "    \n",
    "    nn.Dropout(),\n",
    "    nn.Linear(4096, 4096),\n",
    "    nn.ReLU(inplace=True),\n",
    "    \n",
    "    nn.Linear(4096, NUM_CLASSES)\n",
    ")"
   ]
  },
  {
   "cell_type": "markdown",
   "id": "sorted-genealogy",
   "metadata": {},
   "source": [
    "#### 2.2 AlexNet with Sequential API with LRN added"
   ]
  },
  {
   "cell_type": "code",
   "execution_count": 5,
   "id": "polar-project",
   "metadata": {},
   "outputs": [],
   "source": [
    "# AlexNet-like model using the Sequential API\n",
    "\n",
    "class Flatten(nn.Module):\n",
    "    def forward(self, x):\n",
    "        batch_size = x.shape[0]\n",
    "        return x.view(batch_size, -1)\n",
    "\n",
    "NUM_CLASSES = 10\n",
    "\n",
    "alexnet_sequential_LRN = nn.Sequential(\n",
    "    \n",
    "    nn.Conv2d(3, 96, kernel_size=11, stride=4, padding=2),\n",
    "    nn.ReLU(inplace=True),\n",
    "    nn.LocalResponseNorm(5, alpha = 0.0001, beta = 0.75, k = 2.0),\n",
    "    nn.MaxPool2d(kernel_size=3, stride=2),\n",
    "    \n",
    "    nn.Conv2d(96, 256, kernel_size=5, padding=2),\n",
    "    nn.ReLU(inplace=True),\n",
    "    nn.LocalResponseNorm(5, alpha = 0.0001, beta = 0.75, k = 2.0),\n",
    "    nn.MaxPool2d(kernel_size=3, stride=2),\n",
    "    \n",
    "    nn.Conv2d(256, 384, kernel_size=3, padding=1),\n",
    "    nn.ReLU(inplace=True),\n",
    "    \n",
    "    nn.Conv2d(384, 384, kernel_size=3, padding=1),\n",
    "    nn.ReLU(inplace=True),\n",
    "    \n",
    "    nn.Conv2d(384, 256, kernel_size=3, padding=1),\n",
    "    nn.ReLU(inplace=True),\n",
    "    nn.MaxPool2d(kernel_size=3, stride=2),\n",
    "    \n",
    "    nn.AdaptiveAvgPool2d((6, 6)),   #<<<< do anything to get 6*6 any featrue maps!\n",
    "    Flatten(),\n",
    "    nn.Dropout(),\n",
    "    nn.Linear(256 * 6 * 6, 4096),\n",
    "    nn.ReLU(inplace=True),\n",
    "    \n",
    "    nn.Dropout(),\n",
    "    nn.Linear(4096, 4096),\n",
    "    nn.ReLU(inplace=True),\n",
    "    \n",
    "    nn.Linear(4096, NUM_CLASSES)\n",
    ")"
   ]
  },
  {
   "cell_type": "markdown",
   "id": "champion-denver",
   "metadata": {},
   "source": [
    "#### 2.3 AlexNet with nn.Module"
   ]
  },
  {
   "cell_type": "code",
   "execution_count": 6,
   "id": "binary-mouse",
   "metadata": {},
   "outputs": [],
   "source": [
    "class AlexNetModule(nn.Module):\n",
    "    '''\n",
    "    An AlexNet-like CNN\n",
    "\n",
    "    Attributes\n",
    "    ----------\n",
    "    num_classes : int\n",
    "        Number of classes in the final multinomial output layer\n",
    "    features : Sequential\n",
    "        The feature extraction portion of the network\n",
    "    avgpool : AdaptiveAvgPool2d\n",
    "        Convert the final feature layer to 6x6 feature maps by average pooling if they are not already 6x6\n",
    "    classifier : Sequential\n",
    "        Classify the feature maps into num_classes classes\n",
    "    '''\n",
    "    def __init__(self, num_classes: int = 10) -> None:\n",
    "        super().__init__()\n",
    "        self.num_classes = num_classes\n",
    "        self.features = nn.Sequential(\n",
    "            nn.Conv2d(3, 64, kernel_size=11, stride=4, padding=2),\n",
    "            nn.ReLU(inplace=True),\n",
    "            nn.LocalResponseNorm(5, alpha = 0.0001, beta = 0.75, k = 2.0),\n",
    "            nn.MaxPool2d(kernel_size=3, stride=2),\n",
    "            nn.Conv2d(64, 192, kernel_size=5, padding=2),\n",
    "            nn.ReLU(inplace=True),\n",
    "            nn.LocalResponseNorm(5, alpha = 0.0001, beta = 0.75, k = 2.0),\n",
    "            nn.MaxPool2d(kernel_size=3, stride=2),\n",
    "            nn.Conv2d(192, 384, kernel_size=3, padding=1),\n",
    "            nn.ReLU(inplace=True),\n",
    "            nn.Conv2d(384, 256, kernel_size=3, padding=1),\n",
    "            nn.ReLU(inplace=True),\n",
    "            nn.Conv2d(256, 256, kernel_size=3, padding=1),\n",
    "            nn.ReLU(inplace=True),\n",
    "            nn.MaxPool2d(kernel_size=3, stride=2),\n",
    "        )\n",
    "        self.avgpool = nn.AdaptiveAvgPool2d((6, 6))\n",
    "        self.classifier = nn.Sequential(\n",
    "            nn.Dropout(),\n",
    "            nn.Linear(256 * 6 * 6, 4096),\n",
    "            nn.ReLU(inplace=True),\n",
    "            nn.Dropout(),\n",
    "            nn.Linear(4096, 4096),\n",
    "            nn.ReLU(inplace=True),\n",
    "            nn.Linear(4096, num_classes),\n",
    "        )\n",
    "\n",
    "    def forward(self, x: torch.Tensor) -> torch.Tensor:\n",
    "        x = self.features(x)\n",
    "        x = self.avgpool(x)\n",
    "        x = torch.flatten(x, 1)\n",
    "        x = self.classifier(x)\n",
    "        return x"
   ]
  },
  {
   "cell_type": "markdown",
   "id": "wound-scanner",
   "metadata": {},
   "source": [
    "#### 2.4 AlexNet with nn.Module with LRN added"
   ]
  },
  {
   "cell_type": "code",
   "execution_count": 7,
   "id": "adjacent-venture",
   "metadata": {},
   "outputs": [],
   "source": [
    "class AlexNetModule_LRN(nn.Module):\n",
    "    '''\n",
    "    An AlexNet-like CNN\n",
    "\n",
    "    Attributes\n",
    "    ----------\n",
    "    num_classes : int\n",
    "        Number of classes in the final multinomial output layer\n",
    "    features : Sequential\n",
    "        The feature extraction portion of the network\n",
    "    avgpool : AdaptiveAvgPool2d\n",
    "        Convert the final feature layer to 6x6 feature maps by average pooling if they are not already 6x6\n",
    "    classifier : Sequential\n",
    "        Classify the feature maps into num_classes classes\n",
    "    '''\n",
    "    def __init__(self, num_classes: int = 10) -> None:\n",
    "        super().__init__()\n",
    "        self.num_classes = num_classes\n",
    "        self.features = nn.Sequential(\n",
    "            nn.Conv2d(3, 64, kernel_size=11, stride=4, padding=2),\n",
    "            nn.ReLU(inplace=True),\n",
    "            nn.MaxPool2d(kernel_size=3, stride=2),\n",
    "            nn.Conv2d(64, 192, kernel_size=5, padding=2),\n",
    "            nn.ReLU(inplace=True),\n",
    "            nn.MaxPool2d(kernel_size=3, stride=2),\n",
    "            nn.Conv2d(192, 384, kernel_size=3, padding=1),\n",
    "            nn.ReLU(inplace=True),\n",
    "            nn.Conv2d(384, 256, kernel_size=3, padding=1),\n",
    "            nn.ReLU(inplace=True),\n",
    "            nn.Conv2d(256, 256, kernel_size=3, padding=1),\n",
    "            nn.ReLU(inplace=True),\n",
    "            nn.MaxPool2d(kernel_size=3, stride=2),\n",
    "        )\n",
    "        self.avgpool = nn.AdaptiveAvgPool2d((6, 6))\n",
    "        self.classifier = nn.Sequential(\n",
    "            nn.Dropout(),\n",
    "            nn.Linear(256 * 6 * 6, 4096),\n",
    "            nn.ReLU(inplace=True),\n",
    "            nn.Dropout(),\n",
    "            nn.Linear(4096, 4096),\n",
    "            nn.ReLU(inplace=True),\n",
    "            nn.Linear(4096, num_classes),\n",
    "        )\n",
    "\n",
    "    def forward(self, x: torch.Tensor) -> torch.Tensor:\n",
    "        x = self.features(x)\n",
    "        x = self.avgpool(x)\n",
    "        x = torch.flatten(x, 1)\n",
    "        x = self.classifier(x)\n",
    "        return x"
   ]
  },
  {
   "cell_type": "markdown",
   "id": "straight-scientist",
   "metadata": {},
   "source": [
    "### 3. Define Train and Evaluation Functions"
   ]
  },
  {
   "cell_type": "code",
   "execution_count": 8,
   "id": "unlikely-republican",
   "metadata": {},
   "outputs": [],
   "source": [
    "def train_model(model, dataloaders, criterion, optimizer, num_epochs=25, weights_name='weight_save', is_inception=False):\n",
    "    '''\n",
    "    train_model function\n",
    "\n",
    "    Train a PyTorch model for a given number of epochs.\n",
    "    \n",
    "            Parameters:\n",
    "                    model: Pytorch model\n",
    "                    dataloaders: dataset\n",
    "                    criterion: loss function\n",
    "                    optimizer: update weights function\n",
    "                    num_epochs: number of epochs\n",
    "                    weights_name: file name to save weights\n",
    "                    is_inception: The model is inception net (Google LeNet) or not\n",
    "\n",
    "            Returns:\n",
    "                    model: Best model from evaluation result\n",
    "                    val_acc_history: evaluation accuracy history\n",
    "                    loss_acc_history: loss value history\n",
    "    '''\n",
    "    since = time.time()\n",
    "\n",
    "    val_acc_history = []\n",
    "    loss_acc_history = []\n",
    "\n",
    "    best_model_wts = copy.deepcopy(model.state_dict())\n",
    "    best_acc = 0.0\n",
    "\n",
    "    for epoch in range(num_epochs):\n",
    "        epoch_start = time.time()\n",
    "        \n",
    "        if (epoch+1) % 5 == 0:        \n",
    "            print('Epoch {}/{}'.format(epoch, num_epochs - 1))\n",
    "            print('-' * 10)\n",
    "\n",
    "        # Each epoch has a training and validation phase\n",
    "        for phase in ['train', 'val']:\n",
    "            if phase == 'train':\n",
    "                model.train()  # Set model to training mode\n",
    "            else:\n",
    "                model.eval()   # Set model to evaluate mode\n",
    "\n",
    "            running_loss = 0.0\n",
    "            running_corrects = 0\n",
    "\n",
    "            # Iterate over the train/validation dataset according to which phase we're in\n",
    "            \n",
    "            for inputs, labels in dataloaders[phase]:\n",
    "\n",
    "                # Inputs is one batch of input images, and labels is a corresponding vector of integers\n",
    "                # labeling each image in the batch. First, we move these tensors to our target device.\n",
    "                \n",
    "                inputs = inputs.to(device)\n",
    "                labels = labels.to(device)\n",
    "\n",
    "                # Zero out any parameter gradients that have previously been calculated. Parameter\n",
    "                # gradients accumulate over as many backward() passes as we let them, so they need\n",
    "                # to be zeroed out after each optimizer step.\n",
    "\n",
    "                optimizer.zero_grad()\n",
    "\n",
    "                # Instruct PyTorch to track gradients only if this is the training phase, then run the\n",
    "                # forward propagation and optionally the backward propagation step for this iteration.\n",
    "\n",
    "                with torch.set_grad_enabled(phase == 'train'):\n",
    "                    # The inception model is a special case during training because it has an auxiliary\n",
    "                    # output used to encourage discriminative representations in the deeper feature maps.\n",
    "                    # We need to calculate loss for both outputs. Otherwise, we have a single output to\n",
    "                    # calculate the loss on.\n",
    "                    if is_inception and phase == 'train':\n",
    "                        # From https://discuss.pytorch.org/t/how-to-optimize-inception-model-with-auxiliary-classifiers/7958\n",
    "                        outputs, aux_outputs = model(inputs)\n",
    "                        loss1 = criterion(outputs, labels)\n",
    "                        loss2 = criterion(aux_outputs, labels)\n",
    "                        loss = loss1 + 0.4 * loss2\n",
    "                    else:\n",
    "                        outputs = model(inputs)\n",
    "                        loss = criterion(outputs, labels)\n",
    "                        \n",
    "                    preds = nn.functional.softmax(outputs, dim=1)   \n",
    "                    _, preds = torch.max(outputs, 1)\n",
    "\n",
    "                    # Backpropagate only if in training phase\n",
    "\n",
    "                    if phase == 'train':\n",
    "                        loss.backward()\n",
    "                        optimizer.step()\n",
    "\n",
    "                # Gather our summary statistics\n",
    "                \n",
    "                running_loss += loss.item() * inputs.size(0)\n",
    "                running_corrects += torch.sum(preds == labels.data)\n",
    "\n",
    "            epoch_loss = running_loss / len(dataloaders[phase].dataset)\n",
    "            epoch_acc = running_corrects.double() / len(dataloaders[phase].dataset)\n",
    "            epoch_end = time.time()\n",
    "            \n",
    "            elapsed_epoch = epoch_end - epoch_start\n",
    "            \n",
    "            if (epoch+1) % 5 == 0:\n",
    "                print('{} Loss: {:.4f} Acc: {:.4f}'.format(phase, epoch_loss, epoch_acc))\n",
    "                print(\"Epoch time taken: \", elapsed_epoch)\n",
    "\n",
    "            # If this is the best model on the validation set so far, deep copy it\n",
    "\n",
    "            if phase == 'val' and epoch_acc > best_acc:\n",
    "                best_acc = epoch_acc\n",
    "                best_model_wts = copy.deepcopy(model.state_dict())\n",
    "                torch.save(model.state_dict(), f'AlexNet_weights/{weights_name}.pth')\n",
    "            if phase == 'val':\n",
    "                val_acc_history.append(epoch_acc)\n",
    "            if phase == 'train':\n",
    "                loss_acc_history.append(epoch_loss)\n",
    "\n",
    "#         print()\n",
    "\n",
    "    # Output summary statistics, load the best weight set, and return results\n",
    "    \n",
    "    time_elapsed = time.time() - since\n",
    "    print('Training complete in {:.0f}m {:.0f}s'.format(time_elapsed // 60, time_elapsed % 60))\n",
    "    print('Best val Acc: {:4f}'.format(best_acc))\n",
    "    model.load_state_dict(best_model_wts)\n",
    "    return model, val_acc_history, loss_acc_history"
   ]
  },
  {
   "cell_type": "code",
   "execution_count": 9,
   "id": "dedicated-biography",
   "metadata": {},
   "outputs": [],
   "source": [
    "def evaluate(model, iterator, criterion):\n",
    "    \n",
    "    total = 0\n",
    "    correct = 0\n",
    "    epoch_loss = 0\n",
    "    epoch_acc = 0\n",
    "    \n",
    "    predicteds = []\n",
    "    trues = []\n",
    "    \n",
    "    model.eval()\n",
    "    \n",
    "    with torch.no_grad():\n",
    "    \n",
    "        for batch, labels in iterator:\n",
    "            \n",
    "            #Move tensors to the configured device\n",
    "            batch = batch.to(device)\n",
    "            labels = labels.to(device)\n",
    "\n",
    "            predictions = model(batch.float())   \n",
    "            loss = criterion(predictions, labels.long())\n",
    "            \n",
    "            predictions = nn.functional.softmax(predictions, dim=1)            \n",
    "            _, predicted = torch.max(predictions.data, 1)  #returns max value, indices\n",
    "                       \n",
    "            predicteds.append(predicted)\n",
    "            trues.append(labels)            \n",
    "            total += labels.size(0)  #keep track of total\n",
    "            correct += (predicted == labels).sum().item()  #.item() give the raw number\n",
    "            acc = 100 * (correct / total)\n",
    "            \n",
    "            epoch_loss += loss.item()\n",
    "            epoch_acc += acc\n",
    "        \n",
    "    return epoch_loss / len(iterator), epoch_acc / len(iterator),predicteds, trues"
   ]
  },
  {
   "cell_type": "code",
   "execution_count": 10,
   "id": "baking-steel",
   "metadata": {},
   "outputs": [],
   "source": [
    "import matplotlib.pyplot as plt\n",
    "\n",
    "def plot_data(val_acc_history, loss_acc_history):\n",
    "    plt.plot(loss_acc_history, label = 'Validation')\n",
    "    plt.title('Loss per epoch')\n",
    "    plt.legend()\n",
    "    plt.show()\n",
    "    plt.plot(val_acc_history, label = 'Validation')\n",
    "    plt.title('Accuracy per epoch')\n",
    "    plt.legend()\n",
    "    plt.show()"
   ]
  },
  {
   "cell_type": "markdown",
   "id": "postal-ceremony",
   "metadata": {},
   "source": [
    "### 4. Train the models"
   ]
  },
  {
   "cell_type": "markdown",
   "id": "protecting-geology",
   "metadata": {},
   "source": [
    "#### 4.1 Define models to train"
   ]
  },
  {
   "cell_type": "code",
   "execution_count": 11,
   "id": "ignored-thumbnail",
   "metadata": {},
   "outputs": [],
   "source": [
    "alexnet_sequential = alexnet_sequential \n",
    "alexnet_sequential_LRN = alexnet_sequential_LRN\n",
    "alexnet_nn = AlexNetModule(10)\n",
    "alexnet_nn_LRN = AlexNetModule_LRN(10)\n",
    "\n",
    "models = [alexnet_sequential, alexnet_sequential_LRN, alexnet_nn, alexnet_nn_LRN]\n",
    "model_names = ['AlexNet Sequential', 'AlexNet Sequential with LRN', 'AlexNet nn.Module', 'AlexNet nn.Module with LRN']\n",
    "# criterion = criterion.to(device)"
   ]
  },
  {
   "cell_type": "markdown",
   "id": "naval-manner",
   "metadata": {},
   "source": [
    "#### 4.1 Loss and Optimizer Functions"
   ]
  },
  {
   "cell_type": "code",
   "execution_count": 12,
   "id": "parental-packing",
   "metadata": {},
   "outputs": [],
   "source": [
    "criterion = nn.CrossEntropyLoss()\n",
    "\n",
    "optimizers = []\n",
    "for model in models:\n",
    "    optimizer = optim.SGD(model.parameters(), lr=0.001, momentum=0.9)\n",
    "    optimizers.append(optimizer)"
   ]
  },
  {
   "cell_type": "markdown",
   "id": "split-framing",
   "metadata": {},
   "source": [
    "#### 4.2 Move everything to the configured device"
   ]
  },
  {
   "cell_type": "markdown",
   "id": "incident-shade",
   "metadata": {},
   "source": [
    "##### Let's check the availability of GPU..."
   ]
  },
  {
   "cell_type": "code",
   "execution_count": 13,
   "id": "discrete-fiber",
   "metadata": {},
   "outputs": [
    {
     "name": "stdout",
     "output_type": "stream",
     "text": [
      "Configured device:  cuda:2\n"
     ]
    }
   ],
   "source": [
    "from chosen_gpu import get_freer_gpu\n",
    "device = torch.device(get_freer_gpu()) if torch.cuda.is_available() else torch.device(\"cpu\")\n",
    "print(\"Configured device: \", device)"
   ]
  },
  {
   "cell_type": "code",
   "execution_count": 14,
   "id": "covered-receptor",
   "metadata": {},
   "outputs": [],
   "source": [
    "for model in models:\n",
    "    model = model.to(device)\n",
    "    \n",
    "criterion = criterion.to(device)"
   ]
  },
  {
   "cell_type": "markdown",
   "id": "swedish-parker",
   "metadata": {},
   "source": [
    "#### 4.3 Count the parameters"
   ]
  },
  {
   "cell_type": "code",
   "execution_count": 15,
   "id": "veterinary-phenomenon",
   "metadata": {},
   "outputs": [
    {
     "name": "stdout",
     "output_type": "stream",
     "text": [
      "The model AlexNet Sequential has 58,322,314 trainable parameters\n",
      "The model AlexNet Sequential with LRN has 58,322,314 trainable parameters\n",
      "The model AlexNet nn.Module has 57,044,810 trainable parameters\n",
      "The model AlexNet nn.Module with LRN has 57,044,810 trainable parameters\n"
     ]
    }
   ],
   "source": [
    "def count_parameters(model):\n",
    "    return sum(p.numel() for p in model.parameters() if p.requires_grad)\n",
    "\n",
    "for i,model in enumerate(models):\n",
    "    print(f'The model {model_names[i]} has {count_parameters(model):,} trainable parameters')# Train the model"
   ]
  },
  {
   "cell_type": "markdown",
   "id": "precise-consideration",
   "metadata": {},
   "source": [
    "#### 4.4 Prepare the dataloader"
   ]
  },
  {
   "cell_type": "code",
   "execution_count": 16,
   "id": "oriented-hypothesis",
   "metadata": {},
   "outputs": [],
   "source": [
    "dataloaders = { 'train': train_dataloader, 'val': val_dataloader }"
   ]
  },
  {
   "cell_type": "markdown",
   "id": "worse-ethnic",
   "metadata": {},
   "source": [
    "#### 4.5 Train the models"
   ]
  },
  {
   "cell_type": "code",
   "execution_count": 17,
   "id": "committed-trinidad",
   "metadata": {},
   "outputs": [
    {
     "name": "stdout",
     "output_type": "stream",
     "text": [
      "Training: AlexNet Sequential\n",
      "Epoch 4/9\n",
      "----------\n",
      "train Loss: 0.7042 Acc: 0.7588\n",
      "Epoch time taken:  134.26278352737427\n",
      "val Loss: 0.8178 Acc: 0.7179\n",
      "Epoch time taken:  147.69260048866272\n",
      "Epoch 9/9\n",
      "----------\n",
      "train Loss: 0.3956 Acc: 0.8632\n",
      "Epoch time taken:  213.99458050727844\n",
      "val Loss: 0.6965 Acc: 0.7706\n",
      "Epoch time taken:  233.68587732315063\n",
      "Training complete in 28m 43s\n",
      "Best val Acc: 0.786100\n"
     ]
    },
    {
     "data": {
      "image/png": "[encoded data removed]",
      "text/plain": [
       "<matplotlib.figure.Figure at 0x7fe202d54080>"
      ]
     },
     "metadata": {
      "needs_background": "light"
     },
     "output_type": "display_data"
    },
    {
     "data": {
      "image/png": "[encoded data removed]",
      "text/plain": [
       "<matplotlib.figure.Figure at 0x7fe332082438>"
      ]
     },
     "metadata": {
      "needs_background": "light"
     },
     "output_type": "display_data"
    },
    {
     "name": "stdout",
     "output_type": "stream",
     "text": [
      "==============================\n",
      "Training: AlexNet Sequential with LRN\n",
      "Epoch 4/9\n",
      "----------\n",
      "train Loss: 0.7149 Acc: 0.7515\n",
      "Epoch time taken:  235.82744073867798\n",
      "val Loss: 0.7430 Acc: 0.7429\n",
      "Epoch time taken:  257.42596554756165\n",
      "Epoch 9/9\n",
      "----------\n",
      "train Loss: 0.3565 Acc: 0.8766\n",
      "Epoch time taken:  162.44293856620789\n",
      "val Loss: 0.6181 Acc: 0.7943\n",
      "Epoch time taken:  177.94630789756775\n",
      "Training complete in 39m 46s\n",
      "Best val Acc: 0.794300\n"
     ]
    },
    {
     "data": {
      "image/png": "[encoded data removed]",
      "text/plain": [
       "<matplotlib.figure.Figure at 0x7fe3320f3470>"
      ]
     },
     "metadata": {
      "needs_background": "light"
     },
     "output_type": "display_data"
    },
    {
     "data": {
      "image/png": "[encoded data removed]",
      "text/plain": [
       "<matplotlib.figure.Figure at 0x7fe331f7ffd0>"
      ]
     },
     "metadata": {
      "needs_background": "light"
     },
     "output_type": "display_data"
    },
    {
     "name": "stdout",
     "output_type": "stream",
     "text": [
      "==============================\n",
      "Training: AlexNet nn.Module\n",
      "Epoch 4/9\n",
      "----------\n",
      "train Loss: 0.7286 Acc: 0.7461\n",
      "Epoch time taken:  166.6973361968994\n",
      "val Loss: 0.7928 Acc: 0.7282\n",
      "Epoch time taken:  182.3241925239563\n",
      "Epoch 9/9\n",
      "----------\n",
      "train Loss: 0.3761 Acc: 0.8683\n",
      "Epoch time taken:  162.443785905838\n",
      "val Loss: 0.6540 Acc: 0.7937\n",
      "Epoch time taken:  178.31673002243042\n",
      "Training complete in 30m 27s\n",
      "Best val Acc: 0.793700\n"
     ]
    },
    {
     "data": {
      "image/png": "[encoded data removed]",
      "text/plain": [
       "<matplotlib.figure.Figure at 0x7fe331f99e10>"
      ]
     },
     "metadata": {
      "needs_background": "light"
     },
     "output_type": "display_data"
    },
    {
     "data": {
      "image/png": "[encoded data removed]",
      "text/plain": [
       "<matplotlib.figure.Figure at 0x7fe331fad438>"
      ]
     },
     "metadata": {
      "needs_background": "light"
     },
     "output_type": "display_data"
    },
    {
     "name": "stdout",
     "output_type": "stream",
     "text": [
      "==============================\n",
      "Training: AlexNet nn.Module with LRN\n",
      "Epoch 4/9\n",
      "----------\n",
      "train Loss: 0.7338 Acc: 0.7460\n",
      "Epoch time taken:  142.65125727653503\n",
      "val Loss: 0.7363 Acc: 0.7465\n",
      "Epoch time taken:  158.92026042938232\n",
      "Epoch 9/9\n",
      "----------\n",
      "train Loss: 0.4290 Acc: 0.8511\n",
      "Epoch time taken:  134.85807490348816\n",
      "val Loss: 0.7652 Acc: 0.7490\n",
      "Epoch time taken:  150.18662881851196\n",
      "Training complete in 26m 39s\n",
      "Best val Acc: 0.770500\n"
     ]
    },
    {
     "data": {
      "image/png": "[encoded data removed]",
      "text/plain": [
       "<matplotlib.figure.Figure at 0x7fe33215a550>"
      ]
     },
     "metadata": {
      "needs_background": "light"
     },
     "output_type": "display_data"
    },
    {
     "data": {
      "image/png": "[encoded data removed]",
      "text/plain": [
       "<matplotlib.figure.Figure at 0x7fe331f2a550>"
      ]
     },
     "metadata": {
      "needs_background": "light"
     },
     "output_type": "display_data"
    },
    {
     "name": "stdout",
     "output_type": "stream",
     "text": [
      "==============================\n"
     ]
    }
   ],
   "source": [
    "# num_epochs = 2\n",
    "for i, model in enumerate(models):\n",
    "    print(f'Training: {model_names[i]}')\n",
    "    best_model, val_acc_history, loss_acc_history = train_model(model, dataloaders, criterion, optimizers[i], 10, model_names[i])\n",
    "    plot_data(val_acc_history, loss_acc_history)\n",
    "    print('='*30)"
   ]
  },
  {
   "cell_type": "markdown",
   "id": "lined-wellington",
   "metadata": {},
   "source": [
    "### 5. Results"
   ]
  },
  {
   "cell_type": "code",
   "execution_count": 18,
   "id": "offensive-attribute",
   "metadata": {},
   "outputs": [
    {
     "name": "stdout",
     "output_type": "stream",
     "text": [
      "Model: AlexNet Sequential\n",
      "Test Loss: 0.640 | Test Acc: 79.20%\n",
      "Model: AlexNet Sequential with LRN\n",
      "Test Loss: 0.605 | Test Acc: 80.22%\n",
      "Model: AlexNet nn.Module\n",
      "Test Loss: 0.652 | Test Acc: 79.96%\n",
      "Model: AlexNet nn.Module with LRN\n",
      "Test Loss: 0.727 | Test Acc: 77.05%\n"
     ]
    }
   ],
   "source": [
    "for i, model in enumerate(models):\n",
    "    print(f'Model: {model_names[i]}')\n",
    "    model.load_state_dict(torch.load(f'AlexNet_weights/{model_names[i]}.pth'))\n",
    "    test_loss, test_acc, test_pred_label, test_true_label  = evaluate(model, test_dataloader, criterion)\n",
    "    print(f'Test Loss: {test_loss:.3f} | Test Acc: {test_acc:.2f}%')"
   ]
  }
 ],
 "metadata": {
  "kernelspec": {
   "display_name": "Python 3",
   "language": "python",
   "name": "python3"
  },
  "language_info": {
   "codemirror_mode": {
    "name": "ipython",
    "version": 3
   },
   "file_extension": ".py",
   "mimetype": "text/x-python",
   "name": "python",
   "nbconvert_exporter": "python",
   "pygments_lexer": "ipython3",
   "version": "3.6.9"
  }
 },
 "nbformat": 4,
 "nbformat_minor": 5
}
