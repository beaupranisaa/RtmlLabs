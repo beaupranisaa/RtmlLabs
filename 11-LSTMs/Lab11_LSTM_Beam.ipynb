{
 "cells": [
  {
   "cell_type": "markdown",
   "id": "printable-section",
   "metadata": {},
   "source": [
    "## Lab 11: Long Short Term Memory (LSTM) Models"
   ]
  },
  {
   "cell_type": "markdown",
   "id": "ongoing-logging",
   "metadata": {},
   "source": [
    "Simple RNNs (SRNs) have difficulty retaining information over a long period of time. LSTM addresses issues arising with SRNs. "
   ]
  },
  {
   "cell_type": "code",
   "execution_count": 1,
   "id": "prime-japan",
   "metadata": {},
   "outputs": [],
   "source": [
    "import torch\n",
    "from torch import nn\n",
    "\n",
    "class NaiveCustomLSTM(nn.Module):\n",
    "    \n",
    "    def __init__(self, input_sz: int, hidden_sz: int):\n",
    "        super().__init__()\n",
    "        self.input_size = input_sz\n",
    "        self.hidden_size = hidden_sz\n",
    "        \n",
    "        # Parameters for computing i_t\n",
    "        self.U_i = nn.Parameter(torch.Tensor(input_sz, hidden_sz))\n",
    "        self.V_i = nn.Parameter(torch.Tensor(hidden_sz, hidden_sz))\n",
    "        self.b_i = nn.Parameter(torch.Tensor(hidden_sz))\n",
    "        \n",
    "        # Parameters for computing f_t\n",
    "        self.U_f = nn.Parameter(torch.Tensor(input_sz, hidden_sz))\n",
    "        self.V_f = nn.Parameter(torch.Tensor(hidden_sz, hidden_sz))\n",
    "        self.b_f = nn.Parameter(torch.Tensor(hidden_sz))\n",
    "        \n",
    "        # Parameters for computing c_t\n",
    "        self.U_c = nn.Parameter(torch.Tensor(input_sz, hidden_sz))\n",
    "        self.V_c = nn.Parameter(torch.Tensor(hidden_sz, hidden_sz))\n",
    "        self.b_c = nn.Parameter(torch.Tensor(hidden_sz))\n",
    "        \n",
    "        # Parameters for computing o_t\n",
    "        self.U_o = nn.Parameter(torch.Tensor(input_sz, hidden_sz))\n",
    "        self.V_o = nn.Parameter(torch.Tensor(hidden_sz, hidden_sz))\n",
    "        self.b_o = nn.Parameter(torch.Tensor(hidden_sz))\n",
    "        \n",
    "        self.init_weights()\n",
    "                \n",
    "    def init_weights(self):\n",
    "        stdv = 1.0 / math.sqrt(self.hidden_size)\n",
    "        for weight in self.parameters():\n",
    "            weight.data.uniform_(-stdv, stdv)\n",
    "         \n",
    "    def forward(self, x, init_states=None):\n",
    "        \"\"\"\n",
    "        forward: Run input x through the cell. Assumes x.shape is (batch_size, sequence_length, input_size)\n",
    "        bs = batchsize\n",
    "        seq_sz = seq size\n",
    "        \"\"\"\n",
    "        bs, seq_sz, _ = x.size()\n",
    "        hidden_seq = []\n",
    "        \n",
    "        if init_states is None:\n",
    "            '''\n",
    "            h_t = hidden state\n",
    "            c_t = cell state\n",
    "            '''\n",
    "            h_t, c_t = (\n",
    "                torch.zeros(bs, self.hidden_size).to(x.device),\n",
    "                torch.zeros(bs, self.hidden_size).to(x.device),\n",
    "            )\n",
    "        else:\n",
    "            h_t, c_t = init_states\n",
    "        \n",
    "        ### for every seq\n",
    "        for t in range(seq_sz):\n",
    "            x_t = x[:, t, :]\n",
    "            \n",
    "            i_t = torch.sigmoid(x_t @ self.U_i + h_t @ self.V_i + self.b_i)\n",
    "            f_t = torch.sigmoid(x_t @ self.U_f + h_t @ self.V_f + self.b_f)\n",
    "            g_t = torch.tanh(x_t @ self.U_c + h_t @ self.V_c + self.b_c)\n",
    "            o_t = torch.sigmoid(x_t @ self.U_o + h_t @ self.V_o + self.b_o)\n",
    "            c_t = f_t * c_t + i_t * g_t\n",
    "            h_t = o_t * torch.tanh(c_t)\n",
    "            \n",
    "            hidden_seq.append(h_t.unsqueeze(0))\n",
    "        \n",
    "        # Reshape hidden_seq tensor to (batch size, sequence length, hidden_size)\n",
    "        hidden_seq = torch.cat(hidden_seq, dim=0)\n",
    "        ### When you call contiguous(), it actually makes a copy of the tensor \n",
    "        ### such that the order of its elements in memory is the same as \n",
    "        ### if it had been created from scratch with the same data.\n",
    "        hidden_seq = hidden_seq.transpose(0, 1).contiguous()\n",
    "\n",
    "        return hidden_seq, (h_t, c_t)"
   ]
  },
  {
   "cell_type": "markdown",
   "id": "widespread-cigarette",
   "metadata": {},
   "source": [
    "**One (bad) strategy** to find the optimal output for $x$ would be to randomly sample ouput token sequences $y$, calculate $P(y \\mid x)$, and repeat, finally returning the sequence with the highest probability.\n",
    "\n",
    "A better strategy, however, would be a smarter **search procedure**. We'll go through two search methods: \n",
    "\n",
    "1. greedy search\n",
    "2. beam search.\n",
    "\n"
   ]
  },
  {
   "cell_type": "markdown",
   "id": "practical-wallpaper",
   "metadata": {},
   "source": [
    "## 1. Greedy search\n",
    "\n",
    "Greedy search is a simple strategy. At time step $t'$ of the output sequence, given the previous tokens and a representation $c$ of the input, the token with the highest predicted probability from the set of possible tokens $\\gamma$ is selected:\n",
    "\n",
    "$$y_{t'}=\\underset{y\\in\\gamma}{\\textrm{argmax}} P(y \\mid y_1,...,y_{t'-1},c).$$"
   ]
  },
  {
   "cell_type": "markdown",
   "id": "advance-conversion",
   "metadata": {},
   "source": [
    "disadvantage of this greedy search method is that the actual optimal sequence $y^*$ will contain some locally **suboptimal steps.** "
   ]
  },
  {
   "cell_type": "markdown",
   "id": "conservative-vintage",
   "metadata": {},
   "source": [
    " To give some intuition, consider a game like **chess**. We have to **sacrifice some of our own pieces** (short term suboptimality) in order to obtain a **long term advantage** and win the game. "
   ]
  },
  {
   "cell_type": "markdown",
   "id": "thousand-friendship",
   "metadata": {},
   "source": [
    "Similarly, when selecting an output sentence for our chatbot, some of the tokens in the optimal sequence may have a relatively low probability given the previous sequence."
   ]
  },
  {
   "cell_type": "code",
   "execution_count": 2,
   "id": "hired-founder",
   "metadata": {},
   "outputs": [
    {
     "name": "stdout",
     "output_type": "stream",
     "text": [
      "Populating the interactive namespace from numpy and matplotlib\n"
     ]
    },
    {
     "data": {
      "image/png": "[encoded data removed]",
      "text/plain": [
       "<Figure size 360x360 with 1 Axes>"
      ]
     },
     "metadata": {
      "needs_background": "light"
     },
     "output_type": "display_data"
    }
   ],
   "source": [
    "%pylab inline\n",
    "import matplotlib.pyplot as plt\n",
    "import matplotlib.image as mpimg\n",
    "RNN = mpimg.imread('greedy_search.png')\n",
    "plt.figure(figsize = (5,5))\n",
    "imgplot = plt.imshow(RNN)\n",
    "plt.show()"
   ]
  },
  {
   "cell_type": "markdown",
   "id": "prescription-leonard",
   "metadata": {},
   "source": [
    "Optimal time step, but not optimal overall\n",
    "$0.5 \\times 0.4 \\times 0.4 \\times 0.6 = 0.048$\n",
    "\n",
    "Not optimal time step, but optimal overall\n",
    "$0.5 \\times 0.3 \\times 0.6 \\times 0.6 = 0.054$\n"
   ]
  },
  {
   "cell_type": "code",
   "execution_count": 3,
   "id": "hollywood-highland",
   "metadata": {},
   "outputs": [
    {
     "name": "stdout",
     "output_type": "stream",
     "text": [
      "cuda\n"
     ]
    }
   ],
   "source": [
    "import torch\n",
    "from torch.jit import script, trace\n",
    "import torch.nn as nn\n",
    "from torch import optim\n",
    "import torch.nn.functional as F\n",
    "import csv\n",
    "import random\n",
    "import re\n",
    "import os\n",
    "import unicodedata\n",
    "import codecs\n",
    "from io import open\n",
    "import itertools\n",
    "import math\n",
    "import pickle\n",
    "from torch.autograd import Variable\n",
    "\n",
    "CUDA = torch.cuda.is_available()\n",
    "device = torch.device(\"cuda\" if CUDA else \"cpu\")\n",
    "print(device)"
   ]
  },
  {
   "cell_type": "markdown",
   "id": "preliminary-arrow",
   "metadata": {},
   "source": [
    "# Chatbot\n",
    "recurrent sequence-to-sequence models\n",
    "### 1. Load and preprocess the data\n",
    "\n"
   ]
  },
  {
   "cell_type": "markdown",
   "id": "productive-dating",
   "metadata": {},
   "source": [
    "We are dealing with sequences of words, which cannot be directly mapped to a continuous vector space as we need for LSTMs. \n",
    "\n",
    "We will therefore create a mapping from each unique word in the dataset to an index value.\n",
    "\n",
    "**VOC**: It creates both the forward mapping from words to indices and the reverse mapping from indices back to words, as well as a count of each word and a total word count. \n",
    "\n",
    "**(addWord)** The class's behavior includes a method to add a word to the vocabulary (addWord)\n",
    "\n",
    "**(addSentence)** a method to add all words in a sentence at once (addSentence) \n",
    "\n",
    "**(trim)** a method to trim infrequently seen words (trim)"
   ]
  },
  {
   "cell_type": "code",
   "execution_count": 4,
   "id": "variable-auditor",
   "metadata": {},
   "outputs": [],
   "source": [
    "# Reserved word tokens\n",
    "\n",
    "PAD_token = 0  # Used for padding short sentences\n",
    "SOS_token = 1  # Start-of-sentence token\n",
    "EOS_token = 2  # End-of-sentence token\n",
    "\n",
    "class Voc:\n",
    "\n",
    "    def __init__(self):        \n",
    "        self.trimmed = False\n",
    "        self.word2index = {}\n",
    "        self.word2count = {}\n",
    "        self.index2word = {PAD_token: \"PAD\", SOS_token: \"SOS\", EOS_token: \"EOS\"}\n",
    "        self.num_words = 3  # Count SOS, EOS, PAD\n",
    "\n",
    "    def addSentence(self, sentence):\n",
    "        for word in sentence.split(' '):\n",
    "            self.addWord(word)\n",
    "\n",
    "    def addWord(self, word):\n",
    "        if word not in self.word2index:\n",
    "            self.word2index[word] = self.num_words\n",
    "            self.word2count[word] = 1\n",
    "            self.index2word[self.num_words] = word\n",
    "            self.num_words += 1\n",
    "        else:\n",
    "            self.word2count[word] += 1\n",
    "\n",
    "    # Remove words below a certain count threshold\n",
    "    def trim(self, min_count):\n",
    "        if self.trimmed:\n",
    "            return\n",
    "        self.trimmed = True\n",
    "\n",
    "        keep_words = []\n",
    "\n",
    "        for k, v in self.word2count.items():\n",
    "            if v >= min_count:\n",
    "                keep_words.append(k)\n",
    "\n",
    "        print('keep_words {} / {} = {:.4f}'.format(\n",
    "            len(keep_words), len(self.word2index), len(keep_words) / len(self.word2index)\n",
    "        ))\n",
    "\n",
    "        # Reinitialize dictionaries\n",
    "        self.word2index = {}\n",
    "        self.word2count = {}\n",
    "        self.index2word = {PAD_token: \"PAD\", SOS_token: \"SOS\", EOS_token: \"EOS\"}\n",
    "        self.num_words = 3 # Count default tokens\n",
    "\n",
    "        for word in keep_words:\n",
    "            self.addWord(word)"
   ]
  },
  {
   "cell_type": "markdown",
   "id": "supposed-speaker",
   "metadata": {},
   "source": [
    "Before we can use the data, we have to perform some preprocessing.\n",
    "\n",
    "#### 1.1 Convert Unicode strings to ASCII using unicodeToAscii. "
   ]
  },
  {
   "cell_type": "code",
   "execution_count": 5,
   "id": "agreed-scratch",
   "metadata": {},
   "outputs": [],
   "source": [
    "def unicodeToAscii(s):\n",
    "    return ''.join(\n",
    "        c for c in unicodedata.normalize('NFD', s)\n",
    "        if unicodedata.category(c) != 'Mn'\n",
    "    )"
   ]
  },
  {
   "cell_type": "markdown",
   "id": "shared-lodging",
   "metadata": {},
   "source": [
    "#### 1.2 Convert every letter to lowercase"
   ]
  },
  {
   "cell_type": "code",
   "execution_count": 6,
   "id": "suffering-freight",
   "metadata": {},
   "outputs": [],
   "source": [
    "# Lowercase, trim, and remove non-letter characters\n",
    "def normalizeString(s):\n",
    "    s = unicodeToAscii(s.lower().strip())\n",
    "    s = re.sub(r\"([.!?])\", r\" \\1\", s)\n",
    "    s = re.sub(r\"[^a-zA-Z.!?]+\", r\" \", s)\n",
    "    s = re.sub(r\"\\s+\", r\" \", s).strip()\n",
    "    return s"
   ]
  },
  {
   "cell_type": "markdown",
   "id": "roman-quilt",
   "metadata": {},
   "source": [
    "#### 1.2 Trim all non-letter characters except for basic punctuation (function normalizeString). \n",
    "\n",
    "improve training convergence, we filter out sentences with length greater than the MAX_LENGTH threshold (function filterPairs)."
   ]
  },
  {
   "cell_type": "code",
   "execution_count": 7,
   "id": "constitutional-insured",
   "metadata": {},
   "outputs": [],
   "source": [
    "MAX_LENGTH = 10  # Maximum sentence length to consider"
   ]
  },
  {
   "cell_type": "code",
   "execution_count": 8,
   "id": "plastic-denmark",
   "metadata": {},
   "outputs": [],
   "source": [
    "# Read query/response pairs and return a Voc object\n",
    "\n",
    "def readVocs(datafile):\n",
    "    print(\"Reading lines...\")    \n",
    "    # Read the file and split into lines\n",
    "    lines = open(datafile, encoding='utf-8').\\\n",
    "        read().strip().split('\\n')\n",
    "    # Split every line into pairs and normalize\n",
    "    pairs = [[normalizeString(s) for s in l.split('\\t')] for l in lines]\n",
    "    voc = Voc()\n",
    "    print(voc)\n",
    "    return voc, pairs\n",
    "\n",
    "# Boolean function returning True iff both sentences in a pair 'p' are under the MAX_LENGTH threshold\n",
    "\n",
    "def filterPair(p):\n",
    "    # Input sequences need to preserve the last word for EOS token\n",
    "    return len(p[0].split(' ')) < MAX_LENGTH and len(p[1].split(' ')) < MAX_LENGTH\n",
    "\n",
    "# Filter pairs using the filterPair predicate\n",
    "\n",
    "def filterPairs(pairs):\n",
    "    return [pair for pair in pairs if filterPair(pair)]\n",
    "\n",
    "# Using the functions defined above, return a populated voc object and pairs list\n",
    "\n",
    "def loadPrepareData(datafile):\n",
    "    print(\"Start preparing training data ...\")\n",
    "    voc, pairs = readVocs(datafile)\n",
    "    print(\"Read {!s} sentence pairs\".format(len(pairs)))\n",
    "    pairs = filterPairs(pairs)\n",
    "    print(\"Trimmed to {!s} sentence pairs\".format(len(pairs)))\n",
    "    print(\"Counting words...\")\n",
    "    for pair in pairs:\n",
    "        voc.addSentence(pair[0])\n",
    "        voc.addSentence(pair[1])\n",
    "    print(\"Counted words:\", voc.num_words)\n",
    "    return voc, pairs"
   ]
  },
  {
   "cell_type": "markdown",
   "id": "allied-guard",
   "metadata": {},
   "source": [
    "#### Load\n"
   ]
  },
  {
   "cell_type": "code",
   "execution_count": 9,
   "id": "devoted-mumbai",
   "metadata": {},
   "outputs": [
    {
     "name": "stdout",
     "output_type": "stream",
     "text": [
      "Start preparing training data ...\n",
      "Reading lines...\n",
      "<__main__.Voc object at 0x7fc0489c86a0>\n",
      "Read 221282 sentence pairs\n",
      "Trimmed to 64271 sentence pairs\n",
      "Counting words...\n",
      "Counted words: 18008\n",
      "\n",
      "pairs:\n",
      "['there .', 'where ?']\n",
      "['you have my word . as a gentleman', 'you re sweet .']\n",
      "['hi .', 'looks like things worked out tonight huh ?']\n",
      "['you know chastity ?', 'i believe we share an art instructor']\n",
      "['have fun tonight ?', 'tons']\n",
      "['well no . . .', 'then that s all you had to say .']\n",
      "['then that s all you had to say .', 'but']\n",
      "['but', 'you always been this selfish ?']\n",
      "['do you listen to this crap ?', 'what crap ?']\n",
      "['what good stuff ?', 'the real you .']\n"
     ]
    }
   ],
   "source": [
    "# Load/Assemble Voc and pairs\n",
    "\n",
    "datafile = 'data/chatDataset.txt'\n",
    "voc, pairs = loadPrepareData(datafile)\n",
    "\n",
    "# Print some pairs to validate\n",
    "\n",
    "print(\"\\npairs:\")\n",
    "for pair in pairs[:10]:\n",
    "    print(pair)"
   ]
  },
  {
   "cell_type": "markdown",
   "id": "demographic-twelve",
   "metadata": {},
   "source": [
    "#### 1.3 Trim rarely-used words\n",
    "\n",
    "As already mentioned, we will trim out **rarely-used** words from the vocabulary. This will help improve convergence during training, because with a lower-dimensional input feature space, it will be easier to estimate the probability model $P(y \\mid x)$. We trim as a two-step process:\n",
    "\n",
    "1. Trim words appearing fewer than MIN_COUNT times with the previously-given Voc.trim method.\n",
    "\n",
    "2. Filter out all sentence pairs containing trimmed words."
   ]
  },
  {
   "cell_type": "code",
   "execution_count": 10,
   "id": "historic-substitute",
   "metadata": {},
   "outputs": [],
   "source": [
    "MIN_COUNT = 3    # Minimum word count threshold for trimming\n",
    "\n",
    "def trimRareWords(voc, pairs, MIN_COUNT):\n",
    "    # Trim words used under the MIN_COUNT from the voc\n",
    "    voc.trim(MIN_COUNT)\n",
    "    # Filter out pairs with trimmed words\n",
    "    keep_pairs = []\n",
    "    for pair in pairs:\n",
    "        input_sentence = pair[0]\n",
    "        output_sentence = pair[1]\n",
    "        keep_input = True\n",
    "        keep_output = True\n",
    "        # Check input sentence\n",
    "        for word in input_sentence.split(' '):\n",
    "            if word not in voc.word2index:\n",
    "                keep_input = False\n",
    "                break\n",
    "        # Check output sentence\n",
    "        for word in output_sentence.split(' '):\n",
    "            if word not in voc.word2index:\n",
    "                keep_output = False\n",
    "                break\n",
    "\n",
    "        # Only keep pairs that do not contain trimmed word(s) in their input or output sentence\n",
    "        if keep_input and keep_output:\n",
    "            keep_pairs.append(pair)\n",
    "\n",
    "    print(\"Trimmed from {} pairs to {}, {:.4f} of total\".format(len(pairs), len(keep_pairs), len(keep_pairs) / len(pairs)))\n",
    "    return keep_pairs"
   ]
  },
  {
   "cell_type": "markdown",
   "id": "recovered-child",
   "metadata": {},
   "source": [
    "#### Trim vocabulary and pairs"
   ]
  },
  {
   "cell_type": "code",
   "execution_count": 11,
   "id": "opponent-chase",
   "metadata": {},
   "outputs": [
    {
     "name": "stdout",
     "output_type": "stream",
     "text": [
      "keep_words 7823 / 18005 = 0.4345\n",
      "Trimmed from 64271 pairs to 53165, 0.8272 of total\n"
     ]
    }
   ],
   "source": [
    "# Trim vocabulary and pairs\n",
    "pairs = trimRareWords(voc, pairs, MIN_COUNT)"
   ]
  },
  {
   "cell_type": "markdown",
   "id": "planned-disclaimer",
   "metadata": {},
   "source": [
    "### 2. Split dataset into testing and training pair sets"
   ]
  },
  {
   "cell_type": "markdown",
   "id": "artistic-chemical",
   "metadata": {},
   "source": [
    "Let's split the dataset into the first ***45,000** pairs for training and the rest for testing:"
   ]
  },
  {
   "cell_type": "code",
   "execution_count": 12,
   "id": "honest-tutorial",
   "metadata": {},
   "outputs": [],
   "source": [
    "testpairs = pairs[45000:]\n",
    "pairs  = pairs[:45000]"
   ]
  },
  {
   "cell_type": "markdown",
   "id": "particular-cancer",
   "metadata": {},
   "source": [
    "### 3. Convert pairs to tensors"
   ]
  },
  {
   "cell_type": "markdown",
   "id": "casual-hampton",
   "metadata": {},
   "source": [
    "First, let's make tensors representing sentences in which we encode each sequence as a sequence of indices. The sequences should all be padded to to a length of MAX_LENGTH so that they are all the same size. "
   ]
  },
  {
   "cell_type": "code",
   "execution_count": 13,
   "id": "scheduled-easter",
   "metadata": {},
   "outputs": [
    {
     "name": "stdout",
     "output_type": "stream",
     "text": [
      "Populating the interactive namespace from numpy and matplotlib\n"
     ]
    },
    {
     "name": "stderr",
     "output_type": "stream",
     "text": [
      "/usr/local/lib/python3.6/dist-packages/IPython/core/magics/pylab.py:160: UserWarning: pylab import has clobbered these variables: ['random', 'trace']\n",
      "`%matplotlib` prevents importing * from pylab and numpy\n",
      "  \"\\n`%matplotlib` prevents importing * from pylab and numpy\"\n"
     ]
    },
    {
     "data": {
      "image/png": "[encoded data removed]",
      "text/plain": [
       "<Figure size 720x720 with 1 Axes>"
      ]
     },
     "metadata": {
      "needs_background": "light"
     },
     "output_type": "display_data"
    }
   ],
   "source": [
    "%pylab inline\n",
    "import matplotlib.pyplot as plt\n",
    "import matplotlib.image as mpimg\n",
    "RNN = mpimg.imread('convertpairstotensor.png')\n",
    "plt.figure(figsize = (10,10))\n",
    "imgplot = plt.imshow(RNN)\n",
    "plt.show()"
   ]
  },
  {
   "cell_type": "markdown",
   "id": "guilty-march",
   "metadata": {},
   "source": [
    "**ZeroPadding** does the padding."
   ]
  },
  {
   "cell_type": "code",
   "execution_count": 14,
   "id": "southwest-cleaning",
   "metadata": {},
   "outputs": [],
   "source": [
    "def indexesFromSentence(voc, sentence):\n",
    "    return [voc.word2index[word] for word in sentence.split(' ')] + [EOS_token]\n",
    "\n",
    "def zeroPadding(l, fillvalue=PAD_token):\n",
    "    return list(itertools.zip_longest(*l, fillvalue=fillvalue))\n",
    "\n",
    "def binaryMatrix(l, value=PAD_token):\n",
    "    m = []\n",
    "    for i, seq in enumerate(l):\n",
    "        m.append([])\n",
    "        for token in seq:\n",
    "            if token == PAD_token:\n",
    "                m[i].append(0)\n",
    "            else:\n",
    "                m[i].append(1)\n",
    "    return m"
   ]
  },
  {
   "cell_type": "markdown",
   "id": "fifty-vancouver",
   "metadata": {},
   "source": [
    "The **inputVar** function handles the process of **converting sentences to tensor**, ultimately creating a correctly shaped zero-padded tensor. It also returns a tensor of lengths for each of the sequences in the batch which will be passed to our decoder later."
   ]
  },
  {
   "cell_type": "code",
   "execution_count": 15,
   "id": "tested-converter",
   "metadata": {},
   "outputs": [],
   "source": [
    "# Return a padded input sequence tensor and the lengths of each original sequence\n",
    "def inputVar(l, voc):\n",
    "    indexes_batch = [indexesFromSentence(voc, sentence) for sentence in l]\n",
    "    lengths = torch.tensor([len(indexes) for indexes in indexes_batch])\n",
    "    padList = zeroPadding(indexes_batch)\n",
    "    padVar = torch.LongTensor(padList)\n",
    "    return padVar, lengths\n"
   ]
  },
  {
   "cell_type": "markdown",
   "id": "alive-farmer",
   "metadata": {},
   "source": [
    "The **outputVar** function performs a similar function to inputVar, but instead of returning a lengths tensor, it returns a **binary mask tensor and a maximum target sentence length**. The binary mask tensor has the same shape as the output target tensor, but every element that is a PAD_token is 0 and all others are 1."
   ]
  },
  {
   "cell_type": "code",
   "execution_count": 16,
   "id": "computational-apollo",
   "metadata": {},
   "outputs": [],
   "source": [
    "# Return a padded target sequence tensor, a padding mask, and the max target length\n",
    "def outputVar(l, voc):\n",
    "    indexes_batch = [indexesFromSentence(voc, sentence) for sentence in l]\n",
    "    max_target_len = max([len(indexes) for indexes in indexes_batch])\n",
    "    padList = zeroPadding(indexes_batch)\n",
    "    mask = binaryMatrix(padList)\n",
    "    mask = torch.ByteTensor(mask)\n",
    "    padVar = torch.LongTensor(padList)\n",
    "    return padVar, mask, max_target_len"
   ]
  },
  {
   "cell_type": "markdown",
   "id": "aboriginal-leisure",
   "metadata": {},
   "source": [
    "**batch2TrainData** simply takes a bunch of pairs and **returns the input and target tensors** using the aforementioned functions."
   ]
  },
  {
   "cell_type": "code",
   "execution_count": 17,
   "id": "stable-particle",
   "metadata": {},
   "outputs": [],
   "source": [
    "# Return all items for a given batch of pairs\n",
    "def batch2TrainData(voc, pair_batch):\n",
    "    pair_batch.sort(key=lambda x: len(x[0].split(\" \")), reverse=True)\n",
    "    input_batch, output_batch = [], []\n",
    "    for pair in pair_batch:\n",
    "        input_batch.append(pair[0])\n",
    "        output_batch.append(pair[1])\n",
    "    inp, lengths = inputVar(input_batch, voc)\n",
    "    output, mask, max_target_len = outputVar(output_batch, voc)\n",
    "    return inp, lengths, output, mask, max_target_len"
   ]
  },
  {
   "cell_type": "code",
   "execution_count": 18,
   "id": "genetic-cookbook",
   "metadata": {},
   "outputs": [],
   "source": [
    "# Example for validation\n",
    "small_batch_size = 5\n",
    "batches = batch2TrainData(voc, [random.choice(pairs) for _ in range(small_batch_size)])\n",
    "input_variable, lengths, target_variable, mask, max_target_len = batches"
   ]
  },
  {
   "cell_type": "code",
   "execution_count": 19,
   "id": "laughing-nursing",
   "metadata": {},
   "outputs": [
    {
     "name": "stdout",
     "output_type": "stream",
     "text": [
      "[['there .', 'where ?'], ['you have my word . as a gentleman', 'you re sweet .'], ['hi .', 'looks like things worked out tonight huh ?'], ['have fun tonight ?', 'tons'], ['well no . . .', 'then that s all you had to say .']]\n",
      "[['you have my word . as a gentleman', 'you re sweet .'], ['well no . . .', 'then that s all you had to say .'], ['have fun tonight ?', 'tons'], ['there .', 'where ?'], ['hi .', 'looks like things worked out tonight huh ?']]\n",
      "tensor([[  53,   25,   50,   96,    7],\n",
      "        [2222,  192,    6,   12,   24],\n",
      "        [   4,  387,    6,  130,    6],\n",
      "        [   4,    4,    2,   66,  147],\n",
      "        [   4,  158,    0,    2,   47],\n",
      "        [   2,   76,    0,    0,    7],\n",
      "        [   0,    4,    0,    0,   24],\n",
      "        [   0,    2,    0,    0,    6],\n",
      "        [   0,    0,    0,    0,    2]])\n",
      "tensor([[1, 1, 1, 1, 1],\n",
      "        [1, 1, 1, 1, 1],\n",
      "        [1, 1, 1, 1, 1],\n",
      "        [1, 1, 1, 1, 1],\n",
      "        [1, 1, 0, 1, 1],\n",
      "        [1, 1, 0, 0, 1],\n",
      "        [0, 1, 0, 0, 1],\n",
      "        [0, 1, 0, 0, 1],\n",
      "        [0, 0, 0, 0, 1]], dtype=torch.uint8)\n",
      "9\n"
     ]
    }
   ],
   "source": [
    "pair_batch = pairs[:5]\n",
    "print(pair_batch)\n",
    "pair_batch.sort(key=lambda x: len(x[0].split(\" \")), reverse=True)\n",
    "print(pair_batch)\n",
    "print(target_variable)\n",
    "print(mask)\n",
    "print(max_target_len)"
   ]
  },
  {
   "cell_type": "markdown",
   "id": "democratic-incident",
   "metadata": {},
   "source": [
    "### 4. Define models"
   ]
  },
  {
   "cell_type": "markdown",
   "id": "mineral-belize",
   "metadata": {},
   "source": [
    "Seq2Seq Model\n",
    "\n",
    "The brains of our chatbot is a sequence-to-sequence (seq2seq) model. The goal of a seq2seq model is to take a **variable-length sequence as an input**, and return a **variable-length sequence as an output** using a **fixed-sized model**."
   ]
  },
  {
   "cell_type": "markdown",
   "id": "distributed-adoption",
   "metadata": {},
   "source": [
    "**Two separate recurrent neural nets**\n",
    "\n",
    "1. One **RNN acts as an encoder**, which encodes a **variable length** input sequence to a fixed-length context vector. \n",
    "\n",
    "In theory, this context vector (the final hidden layer of the RNN) will contain semantic information about the query sentence that is input to the bot. \n",
    "\n",
    "2. The second RNN is a **decoder**, which takes an input word and the context vector, and returns a guess for the **next word in the sequence and a hidden state** to use in the next iteration."
   ]
  },
  {
   "cell_type": "markdown",
   "id": "subtle-milton",
   "metadata": {},
   "source": [
    "## Encoder\n",
    "\n",
    "The encoder RNN iterates through the input sentence **one token (e.g. word) at a time**, at each time step outputting an **“output” vector and a “hidden state”** vector. The **hidden state vector is then passed to the next time step**, while the **output vector is recorded**. The encoder transforms the context it saw at **each point in the sequence** into **a set of points** in a high-dimensional space, which the decoder will use to generate a meaningful output for the given task.\n",
    "\n"
   ]
  },
  {
   "cell_type": "markdown",
   "id": "aquatic-process",
   "metadata": {},
   "source": [
    "### bidirectional variant of the GRU: two independent RNNs\n",
    "\n",
    "Using a bidirectional GRU will give us the advantage of encoding both past and future context.\n",
    "\n",
    "\n",
    "1. one that is fed the input sequence in normal sequential order,\n",
    "2. one that is fed the input sequence in reverse order\n",
    "\n",
    "**Outputs** of each network are **summed** at each time step. "
   ]
  },
  {
   "cell_type": "markdown",
   "id": "preceding-duplicate",
   "metadata": {},
   "source": [
    "Note that an **embedding layer** is used to encode our word indices in an **arbitrarily sized feature space**. For our models, this layer will map each word to a feature space of size hidden_size. When trained, these values should encode semantic similarity between similar meaning words.\n",
    "\n",
    "Finally, if **passing a padded batch of sequences** to an RNN module, we must **pack and unpack** padding around the RNN pass using **nn.utils.rnn.pack_padded_sequence** and **nn.utils.rnn.pad_packed_sequence** respectively.\n",
    "\n"
   ]
  },
  {
   "cell_type": "markdown",
   "id": "unknown-difference",
   "metadata": {},
   "source": [
    "#### Computation Graph:\n",
    "\n",
    "1) Convert word indexes to embeddings.\n",
    "\n",
    "2) Pack padded batch of sequences for RNN module.\n",
    "\n",
    "3) Forward pass through GRU.\n",
    "\n",
    "4) Unpack padding.\n",
    "\n",
    "5) Sum bidirectional GRU outputs.\n",
    "\n",
    "6) Return output and final hidden state."
   ]
  },
  {
   "cell_type": "markdown",
   "id": "amateur-designation",
   "metadata": {},
   "source": [
    "#### Inputs:\n",
    "\n",
    "**input_seq**: batch of input sentences; shape=\\ (max_length, batch_size)<br>\n",
    "**input_lengths**: list of sentence lengths corresponding to each sentence in the batch; shape=\\ (batch_size)<br>\n",
    "**hidden**: hidden state; shape=\\ (n_layers x num_directions, batch_size, hidden_size)\n",
    "\n",
    "#### Outputs:\n",
    "\n",
    "**outputs**: **output features** from the last hidden layer of the GRU (sum of bidirectional outputs); shape=\\ (max_length, batch_size, hidden_size)<br>\n",
    "**hidden**: updated hidden state from GRU; shape=\\ (n_layers x num_directions, batch_size, hidden_size)"
   ]
  },
  {
   "cell_type": "code",
   "execution_count": null,
   "id": "green-tracy",
   "metadata": {},
   "outputs": [],
   "source": []
  },
  {
   "cell_type": "code",
   "execution_count": 20,
   "id": "promising-melbourne",
   "metadata": {},
   "outputs": [],
   "source": [
    "class EncoderRNN(nn.Module):\n",
    "    def __init__(self, hidden_size, embedding, n_layers=1, dropout=0):\n",
    "        super(EncoderRNN, self).__init__()\n",
    "        self.n_layers = n_layers\n",
    "        self.hidden_size = hidden_size\n",
    "        self.embedding = embedding\n",
    "        self.gru = nn.LSTM(hidden_size, hidden_size, n_layers,\n",
    "                          dropout=(0 if n_layers == 1 else dropout), bidirectional=True)\n",
    "\n",
    "    def forward(self, input_seq, input_lengths, hidden=None):\n",
    "        '''\n",
    "        an embedding layer is used to encode our word indices \n",
    "        in an arbitrarily sized feature space. \n",
    "        '''\n",
    "        # 1. Convert word indexes to embeddings. nn.Embedding()\n",
    "        embedded = self.embedding(input_seq)\n",
    "        '''\n",
    "         passing a padded batch of sequences to an RNN module, \n",
    "         we must pack and unpack padding around the RNN pass \n",
    "         using nn.utils.rnn.pack_padded_sequence and \n",
    "         nn.utils.rnn.pad_packed_sequence respectively.\n",
    "        '''\n",
    "        # 2. Pack padded batch of sequences for RNN module.\n",
    "        packed = nn.utils.rnn.pack_padded_sequence(embedded, input_lengths.cpu())\n",
    "        # 3. Forward pass through GRU.\n",
    "        outputs, hidden = self.gru(packed, hidden)\n",
    "        # 4. Unpacked\n",
    "        outputs, _ = nn.uti-ls.rnn.pad_packed_sequence(outputs)\n",
    "        \n",
    "        # 5. Sum bidirectional GRU outputs.\n",
    "        outputs = outputs[:, :, :self.hidden_size] + outputs[:, : ,self.hidden_size:]\n",
    "        \n",
    "        return outputs, hidden\n",
    "    \n",
    "    \n",
    "    def init_hidden(self):\n",
    "        # two for two directions\n",
    "        return (torch.zeros(self.num_layers, self.batch_size, self.hidden_dim),\n",
    "                torch.zeros(self.num_layers, self.batch_size, self.hidden_dim))"
   ]
  },
  {
   "cell_type": "markdown",
   "id": "wrapped-topic",
   "metadata": {},
   "source": [
    "## Decoder\n"
   ]
  },
  {
   "cell_type": "markdown",
   "id": "fuzzy-values",
   "metadata": {},
   "source": [
    "The decoder RNN generates the response sentence in a **token-by-token** fashion. It uses the encoder’s context vectors, and **internal hidden states** to generate the next word in the sequence.\n",
    "\n",
    "It continues generating words until it outputs an EOS_token, representing the end of the sentence.\n",
    "\n",
    "A common **problem** with a vanilla seq2seq decoder is that if we rely soley on the **context vector** to encode the entire input sequence’s meaning, it is likely that we will have **information loss**.\n",
    "\n",
    "This is especially the case when dealing with **long input sequences**, greatly limiting the capability of our decoder.\n",
    "\n",
    "**“Attention Mechanism”** that allows the **decoder to pay attention** to certain parts of the input sequence, rather than using the entire fixed context at every step.\n",
    "\n",
    "attention is calculated using the **decoder’s current hidden state** and the **encoder’s outputs.**\n",
    "\n",
    "The output attention weights have the same shape as the input sequence, allowing us to multiply them by the encoder outputs, giving us a **weighted sum which indicates the parts of encoder output to pay attention to**"
   ]
  },
  {
   "cell_type": "markdown",
   "id": "common-insulation",
   "metadata": {},
   "source": [
    "### Attention weights\n",
    "\n",
    "attention submodule"
   ]
  },
  {
   "cell_type": "code",
   "execution_count": 21,
   "id": "saving-thanksgiving",
   "metadata": {},
   "outputs": [],
   "source": [
    "class Attn(nn.Module):\n",
    "    def __init__(self, method, hidden_size):\n",
    "        super(Attn, self).__init__()\n",
    "        self.method = method\n",
    "        if self.method not in ['dot', 'general', 'concat']:\n",
    "            raise ValueError(self.method, \"is not an appropriate attention method.\")\n",
    "        self.hidden_size = hidden_size\n",
    "        \n",
    "    def dot_score(self, hidden, encoder_output):\n",
    "        return torch.sum(hidden * encoder_output, dim=2)\n",
    "\n",
    "    def forward(self, hidden, encoder_outputs):\n",
    "        \n",
    "        attn_energies = self.dot_score(hidden, encoder_outputs)\n",
    "        attn_energies = attn_energies.t()\n",
    "        return F.softmax(attn_energies, dim=1).unsqueeze(1)"
   ]
  },
  {
   "cell_type": "markdown",
   "id": "nervous-password",
   "metadata": {},
   "source": [
    "For the decoder, we will manually feed our batch **one time step at a time**. This means that our embedded word tensor and GRU output will both have shape (1, batch_size, hidden_size)."
   ]
  },
  {
   "cell_type": "markdown",
   "id": "medieval-trunk",
   "metadata": {},
   "source": [
    "**Computation Graph:**\n",
    "\n",
    "1) Get embedding of current input word.\n",
    "\n",
    "2) Forward through unidirectional GRU.\n",
    "\n",
    "3) **Calculate attention weights** from the current GRU output from (2).\n",
    "\n",
    "4) Multiply attention weights to encoder outputs to get new \"weighted sum\" context vector.\n",
    "\n",
    "5) Concatenate weighted context vector and GRU output using Luong eq. 5.\n",
    "\n",
    "6) Predict next word using Luong eq. 6 (without softmax).\n",
    "\n",
    "7) Return output and final hidden state.\n",
    "\n",
    "**Inputs:**\n",
    "\n",
    "**input_step**: one time step (one word) of input sequence batch; shape=\\ (1, batch_size) <br>\n",
    "**last_hidden**: final hidden layer of GRU; shape=\\ (n_layers x num_directions, batch_size, hidden_size)<br>\n",
    "**encoder_outputs**: encoder model’s output; shape=\\ (max_length, batch_size, hidden_size)\n",
    "\n",
    "**Outputs:**\n",
    "\n",
    "**output**: softmax normalized tensor giving probabilities of each word being the correct next word in the decoded sequence; shape=\\ (batch_size, voc.num_words)<br>\n",
    "**hidden**: final hidden state of GRU; shape=\\ (n_layers x num_directions, batch_size, hidden_size)"
   ]
  },
  {
   "cell_type": "markdown",
   "id": "quarterly-sally",
   "metadata": {},
   "source": [
    "### Decoder"
   ]
  },
  {
   "cell_type": "code",
   "execution_count": 22,
   "id": "considerable-costs",
   "metadata": {},
   "outputs": [],
   "source": [
    "class LuongAttnDecoderRNN(nn.Module):\n",
    "    def __init__(self, attn_model, embedding, hidden_size, output_size, n_layers=1, dropout=0.1):\n",
    "        super(LuongAttnDecoderRNN, self).__init__()\n",
    "\n",
    "        \n",
    "        self.attn_model = attn_model\n",
    "        self.hidden_size = hidden_size\n",
    "        self.output_size = output_size\n",
    "        self.n_layers = n_layers\n",
    "        self.dropout = dropout\n",
    "\n",
    "       \n",
    "        self.embedding = embedding\n",
    "        self.embedding_dropout = nn.Dropout(dropout)\n",
    "        self.gru = nn.LSTM(hidden_size, hidden_size, n_layers, dropout=(0 if n_layers == 1 else dropout))#, bidirectional=True)\n",
    "        self.concat = nn.Linear(hidden_size * 2, hidden_size)\n",
    "        self.out = nn.Linear(hidden_size, output_size)\n",
    "        self.attn = Attn(attn_model, hidden_size)\n",
    "    \n",
    "    def forward(self, input_step, last_hidden, encoder_outputs):\n",
    "        # 1. Get embedding of current input word\n",
    "        embedded = self.embedding(input_step)\n",
    "        embedded = self.embedding_dropout(embedded)\n",
    "        # 2. Forward through unidirectional GRU.\n",
    "        rnn_output, hidden = self.gru(embedded, last_hidden)\n",
    "        # 3. Calculate attention weights from the current GRU output from\n",
    "        # 4. Multiply attention weights to encoder outputs to get new \"weighted sum\" context vector.\n",
    "        attn_weights = self.attn(rnn_output, encoder_outputs)\n",
    "        context = attn_weights.bmm(encoder_outputs.transpose(0, 1))\n",
    "        rnn_output = rnn_output.squeeze(0)\n",
    "        context = context.squeeze(1)\n",
    "        # 5. Concatenate weighted context vector and GRU output using Luong eq. 5.\n",
    "        concat_input = torch.cat((rnn_output, context), 1)\n",
    "        concat_output = torch.tanh(self.concat(concat_input))\n",
    "        # 6. Predict next word using Luong eq. 6 (\"without softmax\").\n",
    "        output = self.out(concat_output)\n",
    "        output = F.softmax(output, dim=1)\n",
    "        # OUTPUT -> SOFTMAX! during teacher forcing NO SOFTMAX\n",
    "        return output, hidden"
   ]
  },
  {
   "cell_type": "markdown",
   "id": "middle-assets",
   "metadata": {},
   "source": [
    "### 5. Training procedure\n",
    "\n",
    "**Masked loss**\n",
    "\n",
    "Since we are dealing with batches of padded sequences, we cannot simply consider all elements of the tensor when calculating loss. We define maskNLLLoss to calculate our loss based on our decoder’s output tensor, the target tensor, and a **binary mask tensor describing the padding of the target tensor**. This loss function calculates the average negative log likelihood of the elements that correspond to a 1 in the mask tensor."
   ]
  },
  {
   "cell_type": "code",
   "execution_count": 23,
   "id": "mediterranean-footwear",
   "metadata": {},
   "outputs": [],
   "source": [
    "def maskNLLLoss(inp, target, mask):\n",
    "    nTotal = mask.sum()\n",
    "    crossEntropy = -torch.log(torch.gather(inp, 1, target.view(-1, 1)).squeeze(1))\n",
    "    loss = crossEntropy.masked_select(mask).mean()\n",
    "    loss = loss.to(device)\n",
    "    return loss, nTotal.item()"
   ]
  },
  {
   "cell_type": "markdown",
   "id": "seeing-institute",
   "metadata": {},
   "source": [
    "#### 5.1 Single training iteration"
   ]
  },
  {
   "cell_type": "markdown",
   "id": "adjustable-partner",
   "metadata": {},
   "source": [
    "The train function contains the algorithm for a single training iteration (a single batch of inputs).\n",
    "\n",
    "We will use a couple of **clever tricks to aid in convergence**:\n",
    "\n",
    "* The first trick is using **teacher forcing**. This means that at some probability, set by **teacher_forcing_ratio**, we use the **current target word as the decoder’s next input** rather than using the decoder’s current guess. This technique acts as training wheels for the decoder, aiding in more efficient training. However, **teacher forcing can lead to model instability during inference**, as the decoder may not have a sufficient chance to truly craft its own output sequences during training. Thus, we must be mindful of how we are setting the teacher_forcing_ratio, and not be fooled by fast convergence.\n",
    "\n",
    "* The second trick that we implement is **gradient clipping**. This is a commonly used technique for countering the “exploding gradient” problem. In essence, by clipping or thresholding gradients to a maximum value, we prevent the gradients from growing exponentially and either overflow (NaN), or overshoot steep cliffs in the cost function.\n",
    "\n",
    "#### Sequence of Operations:\n",
    "\n",
    "1) Forward pass entire input batch through encoder.\n",
    "\n",
    "2) Initialize decoder inputs as SOS_token, and hidden state as the encoder's final hidden state.\n",
    "\n",
    "3) Forward input batch sequence through decoder one time step at a time.\n",
    "\n",
    "4) If **teacher forcing**: set **next decoder input as the current target**; else: set next decoder input as current decoder output.\n",
    "\n",
    "5) Calculate and accumulate loss.\n",
    "\n",
    "6) Perform backpropagation.\n",
    "\n",
    "7) Clip gradients.\n",
    "\n",
    "8) Update encoder and decoder model parameters."
   ]
  },
  {
   "cell_type": "markdown",
   "id": "ideal-puppy",
   "metadata": {},
   "source": [
    "#### Train function"
   ]
  },
  {
   "cell_type": "code",
   "execution_count": 24,
   "id": "accredited-reader",
   "metadata": {},
   "outputs": [],
   "source": [
    "def train(input_variable, lengths, target_variable, mask, max_target_len, encoder, decoder, embedding,\n",
    "          encoder_optimizer, decoder_optimizer, batch_size, clip, max_length=MAX_LENGTH):\n",
    "\n",
    "    \n",
    "    encoder_optimizer.zero_grad()\n",
    "    decoder_optimizer.zero_grad()\n",
    "\n",
    "  \n",
    "    input_variable = input_variable.to(device)\n",
    "    lengths = lengths.to(device)\n",
    "    target_variable = target_variable.to(device)\n",
    "    mask = mask.to(device)\n",
    "\n",
    "    \n",
    "    loss = 0\n",
    "    print_losses = []\n",
    "    n_totals = 0\n",
    "\n",
    "    # 1. Forward pass entire input batch through encoder.\n",
    "    encoder_outputs, encoder_hidden = encoder(input_variable, lengths)\n",
    "\n",
    "    # 2. Initialize decoder inputs as SOS_token, \n",
    "    # and hidden state as the encoder's final hidden state. \n",
    "    decoder_input = torch.LongTensor([[SOS_token for _ in range(batch_size)]])\n",
    "    decoder_input = decoder_input.to(device)\n",
    "\n",
    "    \n",
    "    decoder_hidden = encoder_hidden[:decoder.n_layers]\n",
    "    use_teacher_forcing = True if random.random() < teacher_forcing_ratio else False\n",
    "    \n",
    "    # TEACHER FORCING\n",
    "    if use_teacher_forcing:\n",
    "        # 3. Forward input batch sequence through decoder one time step at a time\n",
    "        for t in range(max_target_len):\n",
    "            \n",
    "            # decoder_output -> SOFTMAX\n",
    "            # BUT DO NOT USE IT AS DECODER_INPUT IN THE NEXT STEP\n",
    "            decoder_output, decoder_hidden = decoder(\n",
    "                decoder_input, decoder_hidden, encoder_outputs\n",
    "            )\n",
    "            \n",
    "            # CURRENT TARGET\n",
    "            decoder_input = target_variable[t].view(1, -1)\n",
    "            \n",
    "            # 4. Calculate and accumulate loss.\n",
    "            mask_loss, nTotal = maskNLLLoss(decoder_output, target_variable[t], mask[t])\n",
    "            loss += mask_loss\n",
    "            print_losses.append(mask_loss.item() * nTotal)\n",
    "            n_totals += nTotal\n",
    "    else:\n",
    "        # 3. Forward input batch sequence through decoder one time step at a time\n",
    "        for t in range(max_target_len):\n",
    "            \n",
    "            # decoder_output -> SOFTMAX\n",
    "            # BUT DO NOT USE IT AS DECODER_INPUT IN THE NEXT STEP\n",
    "            decoder_output, decoder_hidden = decoder(\n",
    "                decoder_input, decoder_hidden, encoder_outputs\n",
    "            )\n",
    "            \n",
    "            # choose the word from decoder_output with the highest SOFTMAX value.\n",
    "            _, topi = decoder_output.topk(1)\n",
    "            \n",
    "            # CURRENT DECODER OUTPUT\n",
    "            decoder_input = torch.LongTensor([[topi[i][0] for i in range(batch_size)]])\n",
    "            \n",
    "            decoder_input = decoder_input.to(device)\n",
    "            \n",
    "            # 4. Calculate and accumulate loss.\n",
    "            mask_loss, nTotal = maskNLLLoss(decoder_output, target_variable[t], mask[t])\n",
    "            loss += mask_loss\n",
    "            print_losses.append(mask_loss.item() * nTotal)\n",
    "            n_totals += nTotal\n",
    "\n",
    "    # 5. Perform backpropagation.\n",
    "    loss.backward()\n",
    "    \n",
    "    # 6. Clip gradients.\n",
    "    _ = nn.utils.clip_grad_norm_(encoder.parameters(), clip)\n",
    "    _ = nn.utils.clip_grad_norm_(decoder.parameters(), clip)\n",
    "\n",
    "    # 7. Update encoder and decoder model parameters\n",
    "    encoder_optimizer.step()\n",
    "    decoder_optimizer.step()\n",
    "\n",
    "    return sum(print_losses) / n_totals"
   ]
  },
  {
   "cell_type": "markdown",
   "id": "blocked-expense",
   "metadata": {},
   "source": [
    "### 5.2 Full training procedure\n",
    "\n",
    "The **trainIters** function is responsible for **running n_iterations of training** given the passed models, optimizers, data, etc. This function is quite self explanatory, as we have done the heavy lifting with the train function.\n",
    "\n",
    "One thing to note is that when we save our model, we save a tarball containing the encoder and decoder **state_dicts** (parameters), the optimizers’ state_dicts, the loss, the iteration, etc. Saving the model in this way will give us the ultimate flexibility with the checkpoint. After loading a checkpoint, we will be able to use the model parameters to run inference, or we can continue training right where we left off."
   ]
  },
  {
   "cell_type": "code",
   "execution_count": 25,
   "id": "deluxe-waters",
   "metadata": {},
   "outputs": [
    {
     "data": {
      "text/plain": [
       "9"
      ]
     },
     "execution_count": 25,
     "metadata": {},
     "output_type": "execute_result"
    }
   ],
   "source": [
    "max_target_len"
   ]
  },
  {
   "cell_type": "code",
   "execution_count": 26,
   "id": "legislative-thanks",
   "metadata": {},
   "outputs": [],
   "source": [
    "def trainIters(model_name, voc, pairs, encoder, decoder, encoder_optimizer, decoder_optimizer, embedding, encoder_n_layers, decoder_n_layers, save_dir, n_iteration, batch_size, print_every, save_every, clip, corpus_name, loadFilename):\n",
    "\n",
    "    # Load batches for each iteration\n",
    "    training_batches = [batch2TrainData(voc, [random.choice(pairs) for _ in range(batch_size)])\n",
    "                      for _ in range(n_iteration)]\n",
    "\n",
    "    # Initializations\n",
    "    print('Initializing ...')\n",
    "    start_iteration = 1\n",
    "    print_loss = 0\n",
    "    losslist = []\n",
    "    if loadFilename:\n",
    "        start_iteration = checkpoint['iteration'] + 1\n",
    "\n",
    "    \n",
    "    print(\"Training...\")\n",
    "    for iteration in range(start_iteration, n_iteration + 1):\n",
    "        training_batch = training_batches[iteration - 1]\n",
    "        \n",
    "        input_variable, lengths, target_variable, mask, max_target_len = training_batch\n",
    "\n",
    "        \n",
    "        loss = train(input_variable, lengths, target_variable, mask, max_target_len, encoder,\n",
    "                     decoder, embedding, encoder_optimizer, decoder_optimizer, batch_size, clip)\n",
    "        print_loss += loss\n",
    "\n",
    "        \n",
    "        if iteration % print_every == 0:\n",
    "            print_loss_avg = print_loss / print_every\n",
    "            print(\"Iteration: {}; Percent complete: {:.1f}%; Average loss: {:.4f}\".format(iteration, iteration / n_iteration * 100, print_loss_avg))\n",
    "            print_loss = 0\n",
    "            losslist.append(print_loss_avg)\n",
    "        \n",
    "        if (iteration % save_every == 0):\n",
    "            directory = os.path.join(save_dir, model_name, corpus_name, '{}-{}_{}'.format(encoder_n_layers, decoder_n_layers, hidden_size))\n",
    "            print(directory)\n",
    "            if not os.path.exists(directory):\n",
    "                os.makedirs(directory)\n",
    "            torch.save({\n",
    "                'iteration': iteration,\n",
    "                'en': encoder.state_dict(),\n",
    "                'de': decoder.state_dict(),\n",
    "                'en_opt': encoder_optimizer.state_dict(),\n",
    "                'de_opt': decoder_optimizer.state_dict(),\n",
    "                'loss': loss,\n",
    "                'voc_dict': voc.__dict__,\n",
    "                'embedding': embedding.state_dict()\n",
    "            }, os.path.join(directory, '{}_{}.tar'.format(iteration, 'checkpoint')))\n",
    "    return losslist\n"
   ]
  },
  {
   "cell_type": "markdown",
   "id": "german-omaha",
   "metadata": {},
   "source": [
    "### 6. Evaluation function\n",
    "\n",
    "After training a model, we want to be able to talk to the bot ourselves. First, we must **define how we want the model to decode the encoded input**.\n",
    "\n",
    "\n",
    "### Beam search\n",
    "\n",
    "Beam search is an **improved version of greedy search**. \n",
    "\n",
    "It has a hyperparameter named beam size, $k$. \n",
    "\n",
    "At time step 1, selecting $k$ tokens with the **highest conditional probabilities**. Each of them will be the **first token of $k$ candidate output sequences**, respectively. \n",
    "\n",
    "At each subsequent time step, **based on the $k$ candidate output sequences at the previous time step**, $k$ candidate output sequences has been selected with the highest conditional probabilities from $k|\\gamma|$ possible choices.\n",
    "\n"
   ]
  },
  {
   "cell_type": "markdown",
   "id": "obvious-postcard",
   "metadata": {},
   "source": [
    "#### Beam Decoder\n",
    "\n",
    "The difference between greedy search and beam search is decoder function. Thus, greedy search function name is greedy_decode, and beam search function name is beam_decode.\n",
    "\n"
   ]
  },
  {
   "cell_type": "code",
   "execution_count": 27,
   "id": "little-management",
   "metadata": {},
   "outputs": [],
   "source": [
    "class Sentence:\n",
    "    def __init__(self, decoder_hidden, last_idx=SOS_token, sentence_idxes=[], sentence_scores=[]):\n",
    "        if(len(sentence_idxes) != len(sentence_scores)):\n",
    "            raise ValueError(\"length of indexes and scores should be the same\")\n",
    "        self.decoder_hidden = decoder_hidden\n",
    "        self.last_idx = last_idx\n",
    "        self.sentence_idxes =  sentence_idxes\n",
    "        self.sentence_scores = sentence_scores\n",
    "\n",
    "    def avgScore(self):\n",
    "        if len(self.sentence_scores) == 0:\n",
    "            raise ValueError(\"Calculate average score of sentence, but got no word\")\n",
    "        # return mean of sentence_score\n",
    "        return sum(self.sentence_scores) / len(self.sentence_scores)\n",
    "\n",
    "    def addTopk(self, topi, topv, decoder_hidden, beam_size, voc):\n",
    "        topv = torch.log(topv)\n",
    "        terminates, sentences = [], []\n",
    "        for i in range(beam_size):\n",
    "            if topi[0][i] == EOS_token:\n",
    "                terminates.append(([voc.index2word[idx.item()] for idx in self.sentence_idxes] + ['<EOS>'],\n",
    "                                   self.avgScore())) \n",
    "                continue\n",
    "            idxes = self.sentence_idxes[:] \n",
    "            scores = self.sentence_scores[:] \n",
    "            idxes.append(topi[0][i])\n",
    "            scores.append(topv[0][i])\n",
    "            sentences.append(Sentence(decoder_hidden, topi[0][i], idxes, scores))\n",
    "        return terminates, sentences\n",
    "\n",
    "    def toWordScore(self, voc):\n",
    "        \n",
    "        words = []\n",
    "        for i in range(len(self.sentence_idxes)):\n",
    "            if self.sentence_idxes[i] == EOS_token:\n",
    "                words.append('<EOS>')\n",
    "            else:\n",
    "                words.append(voc.index2word[self.sentence_idxes[i].item()])\n",
    "       \n",
    "        if self.sentence_idxes[-1] != EOS_token:\n",
    "            words.append('<EOS>')\n",
    "        return (words, self.avgScore())\n",
    "\n",
    "    def __repr__(self):\n",
    "        res = f\"Sentence with indices {self.sentence_idxes} \"\n",
    "        res += f\"and scores {self.sentence_scores}\"\n",
    "        return res\n",
    "    "
   ]
  },
  {
   "cell_type": "code",
   "execution_count": 28,
   "id": "wooden-prefix",
   "metadata": {},
   "outputs": [],
   "source": [
    "def beam_decode(decoder, decoder_hidden, encoder_outputs, voc, beam_size, max_length=MAX_LENGTH):\n",
    "    terminal_sentences, prev_top_sentences, next_top_sentences = [], [], []\n",
    "    prev_top_sentences.append(Sentence(decoder_hidden))\n",
    "    for i in range(max_length):\n",
    "        \n",
    "        for sentence in prev_top_sentences:\n",
    "            decoder_input = torch.LongTensor([[sentence.last_idx]])\n",
    "            decoder_input = decoder_input.to(device)\n",
    "\n",
    "            decoder_hidden = sentence.decoder_hidden\n",
    "            decoder_output, decoder_hidden = decoder(decoder_input, decoder_hidden, encoder_outputs)\n",
    "            topv, topi = decoder_output.topk(beam_size)\n",
    "            term, top = sentence.addTopk(topi, topv, decoder_hidden, beam_size, voc)\n",
    "            terminal_sentences.extend(term)\n",
    "            next_top_sentences.extend(top)\n",
    "           \n",
    "        \n",
    "        next_top_sentences.sort(key=lambda s: s.avgScore(), reverse=True)\n",
    "        prev_top_sentences = next_top_sentences[:beam_size]\n",
    "        next_top_sentences = []\n",
    "        \n",
    "\n",
    "    terminal_sentences += [sentence.toWordScore(voc) for sentence in prev_top_sentences]\n",
    "    terminal_sentences.sort(key=lambda x: x[1], reverse=True)\n",
    "\n",
    "    n = min(len(terminal_sentences), 15)\n",
    "    return terminal_sentences[:n]"
   ]
  },
  {
   "cell_type": "code",
   "execution_count": 29,
   "id": "genetic-orlando",
   "metadata": {},
   "outputs": [],
   "source": [
    "class BeamSearchDecoder(nn.Module):\n",
    "\n",
    "    def __init__(self, encoder, decoder, voc, beam_size=10):\n",
    "        super(BeamSearchDecoder, self).__init__()\n",
    "        self.encoder = encoder\n",
    "        self.decoder = decoder\n",
    "        self.voc = voc\n",
    "        self.beam_size = beam_size\n",
    "\n",
    "    def forward(self, input_seq, input_length, max_length):\n",
    "        encoder_outputs, encoder_hidden = self.encoder(input_seq, input_length)\n",
    "        \n",
    "        decoder_hidden = encoder_hidden[:self.decoder.n_layers]\n",
    "        \n",
    "        decoder_input = torch.ones(1, 1, device=device, dtype=torch.long) * SOS_token\n",
    "        sentences = beam_decode(self.decoder, decoder_hidden, encoder_outputs, self.voc, self.beam_size, max_length)\n",
    "        \n",
    "        \n",
    "        all_tokens = [torch.tensor(self.voc.word2index.get(w, 0)) for w in sentences[0][0]]\n",
    "        return all_tokens, None\n",
    "\n",
    "    def __str__(self):\n",
    "        res = f\"BeamSearchDecoder with beam size {self.beam_size}\"\n",
    "        return res"
   ]
  },
  {
   "cell_type": "markdown",
   "id": "formed-hometown",
   "metadata": {},
   "source": [
    "#### Evaluating some text\n",
    "\n",
    "Evaluating some text\n",
    "Now that we have our decoding method defined, we can write functions for **evaluating a string input sentence.** \n",
    "\n",
    "The evaluate function manages the low-level process of handling the input sentence. \n",
    "\n",
    "1. We first format the sentence as an input batch of word indexes with batch_size==1. We do this by **converting the words of the sentence to their corresponding indexes**, and **transposing the dimensions to prepare the tensor** for our models. \n",
    "\n",
    "2. We also create **a lengths tensor which contains the length of our input sentence**. In this case, lengths is scalar because we are only evaluating one sentence at a time (batch_size==1). \n",
    "\n",
    "3. Next, we obtain the decoded response sentence tensor using our GreedySearchDecoder object (searcher). \n",
    "\n",
    "4. Finally, we convert the response’s indexes to words and return the list of decoded words.\n",
    "\n",
    "evaluateInput acts as the user interface for our chatbot. When called, an input text field will spawn in which we can enter our query sentence. After typing our input sentence and pressing Enter, our text is normalized in the same way as our training data, and is ultimately fed to the evaluate function to obtain a decoded output sentence. We loop this process, so we can keep chatting with our bot until we enter either “q” or “quit”.\n",
    "\n",
    "Finally, if a sentence is entered that contains a word that is not in the vocabulary, we handle this gracefully by printing an error message and prompting the user to enter another sentence."
   ]
  },
  {
   "cell_type": "code",
   "execution_count": 30,
   "id": "threaded-party",
   "metadata": {},
   "outputs": [],
   "source": [
    "def evaluate(encoder, decoder, searcher, voc, sentence, max_length=MAX_LENGTH):\n",
    "  \n",
    "    # 1. Convert the words of the sentence to their corresponding indexes\n",
    "    indexes_batch = [indexesFromSentence(voc, sentence)]\n",
    "    \n",
    "    # 2. Create a lengths tensor which contains the length of our input sentence.\n",
    "    lengths = torch.tensor([len(indexes) for indexes in indexes_batch])\n",
    "    \n",
    "    # 1. Transpose the dimensions to prepare the tensor for our models.\n",
    "    input_batch = torch.LongTensor(indexes_batch).transpose(0, 1)\n",
    "    \n",
    "    input_batch = input_batch.to(device)\n",
    "    lengths = lengths.to(device)\n",
    "    \n",
    "    # 3. Obtain the decoded response sentence tensor using our searcher = GreedySearchDecoder \n",
    "    tokens, scores = searcher(input_batch, lengths, max_length)\n",
    "    \n",
    "    # 4. Convert the response’s indexes to words and return the list of decoded words.\n",
    "    decoded_words = [voc.index2word[token.item()] for token in tokens]\n",
    "    return decoded_words\n",
    "\n",
    "\n",
    "def evaluateInput(encoder, decoder, searcher, voc):\n",
    "    input_sentence = ''\n",
    "    while(1):\n",
    "        try:\n",
    "            \n",
    "            input_sentence = input('> ')\n",
    "            \n",
    "            if input_sentence == 'q' or input_sentence == 'quit': break\n",
    "            \n",
    "            input_sentence = normalizeString(input_sentence)\n",
    "            \n",
    "            output_words = evaluate(encoder, decoder, searcher, voc, input_sentence)\n",
    "            \n",
    "            output_words[:] = [x for x in output_words if not (x == 'EOS' or x == 'PAD')]\n",
    "            print('Bot:', ' '.join(output_words))\n",
    "\n",
    "        except KeyError:\n",
    "            print(\"Error: Encountered unknown word.\")"
   ]
  },
  {
   "cell_type": "markdown",
   "id": "surface-zambia",
   "metadata": {},
   "source": [
    "### 7. Run Model\n",
    "Finally, it is time to run our model!\n",
    "\n",
    "Regardless of whether we want to train or test the chatbot model, we must **initialize the individual encoder and decoder models**. In the following block, we set our desired configurations, choose to start from scratch or set a checkpoint to load from, and build and initialize the models. Feel free to play with different model configurations to optimize performance."
   ]
  },
  {
   "cell_type": "code",
   "execution_count": 31,
   "id": "frank-airplane",
   "metadata": {},
   "outputs": [
    {
     "name": "stdout",
     "output_type": "stream",
     "text": [
      "Start preparing training data ...\n",
      "Reading lines...\n",
      "<__main__.Voc object at 0x7fbfb111b748>\n",
      "Read 221282 sentence pairs\n",
      "Trimmed to 64271 sentence pairs\n",
      "Counting words...\n",
      "Counted words: 18008\n",
      "\n",
      "pairs:\n",
      "['there .', 'where ?']\n",
      "['you have my word . as a gentleman', 'you re sweet .']\n",
      "['hi .', 'looks like things worked out tonight huh ?']\n",
      "['you know chastity ?', 'i believe we share an art instructor']\n",
      "['have fun tonight ?', 'tons']\n",
      "['well no . . .', 'then that s all you had to say .']\n",
      "['then that s all you had to say .', 'but']\n",
      "['but', 'you always been this selfish ?']\n",
      "['do you listen to this crap ?', 'what crap ?']\n",
      "['what good stuff ?', 'the real you .']\n"
     ]
    }
   ],
   "source": [
    "# Load/Assemble Voc and pairs\n",
    "\n",
    "datafile = 'data/chatDataset.txt'\n",
    "voc, pairs = loadPrepareData(datafile)\n",
    "\n",
    "# Print some pairs to validate\n",
    "\n",
    "print(\"\\npairs:\")\n",
    "for pair in pairs[:10]:\n",
    "    print(pair)"
   ]
  },
  {
   "cell_type": "code",
   "execution_count": 32,
   "id": "typical-wisdom",
   "metadata": {},
   "outputs": [],
   "source": [
    "MAX_LENGTH = 10 \n",
    "MIN_LENGTH = 3"
   ]
  },
  {
   "cell_type": "code",
   "execution_count": 33,
   "id": "through-modern",
   "metadata": {},
   "outputs": [
    {
     "name": "stdout",
     "output_type": "stream",
     "text": [
      "keep_words 7823 / 18005 = 0.4345\n",
      "Trimmed from 64271 pairs to 53165, 0.8272 of total\n",
      "len before trimming:  64271\n",
      "len after trimming:  45000\n"
     ]
    }
   ],
   "source": [
    "# Trim vocabulary and pairs\n",
    "pairs_ = trimRareWords(voc, pairs, MIN_COUNT)\n",
    "print(\"len before trimming: \",len(pairs))\n",
    "testpairs = pairs_[45000:]\n",
    "pairs  = pairs_[:45000]\n",
    "print(\"len after trimming: \",len(pairs))"
   ]
  },
  {
   "cell_type": "markdown",
   "id": "intermediate-plane",
   "metadata": {},
   "source": [
    "#### Define models"
   ]
  },
  {
   "cell_type": "code",
   "execution_count": 34,
   "id": "billion-shower",
   "metadata": {},
   "outputs": [],
   "source": [
    "model_name = 'cb_model'\n",
    "attn_model = 'dot'\n",
    "\n",
    "hidden_size = 512\n",
    "encoder_n_layers = 2\n",
    "decoder_n_layers = 4\n",
    "dropout = 0.5\n",
    "batch_size = 256 \n",
    "loadFilename = None\n",
    "\n",
    "# 1. Embedding\n",
    "embedding = nn.Embedding(voc.num_words, hidden_size)\n",
    "# 2. Encoder\n",
    "encoder = EncoderRNN(hidden_size, embedding, encoder_n_layers, dropout)\n",
    "# 3. Decoder\n",
    "decoder = LuongAttnDecoderRNN(attn_model, embedding, hidden_size, voc.num_words, decoder_n_layers, dropout)\n",
    "\n",
    "# Put everything to device\n",
    "encoder = encoder.to(device)\n",
    "decoder = decoder.to(device)"
   ]
  },
  {
   "cell_type": "markdown",
   "id": "heavy-framing",
   "metadata": {},
   "source": [
    "#### Optimizers"
   ]
  },
  {
   "cell_type": "code",
   "execution_count": 35,
   "id": "stopped-temple",
   "metadata": {},
   "outputs": [],
   "source": [
    "save_dir = 'content/'\n",
    "clip = 50.0\n",
    "teacher_forcing_ratio = 1.0\n",
    "learning_rate = 0.0001\n",
    "decoder_learning_ratio = 5.0\n",
    "n_iteration = 6000\n",
    "print_every = 10\n",
    "save_every = 2000\n",
    "loadFilename = None\n",
    "corpus_name=\"Chat\"\n",
    "\n",
    "encoder.train()\n",
    "decoder.train()\n",
    "\n",
    "encoder_optimizer = optim.Adam(encoder.parameters(), lr=learning_rate)\n",
    "decoder_optimizer = optim.Adam(decoder.parameters(), lr=learning_rate * decoder_learning_ratio)"
   ]
  },
  {
   "cell_type": "markdown",
   "id": "cloudy-gross",
   "metadata": {},
   "source": [
    "#### Training"
   ]
  },
  {
   "cell_type": "code",
   "execution_count": null,
   "id": "congressional-shuttle",
   "metadata": {},
   "outputs": [
    {
     "name": "stdout",
     "output_type": "stream",
     "text": [
      "Starting Training!\n"
     ]
    }
   ],
   "source": [
    "print(\"Starting Training!\")\n",
    "lossvalues = trainIters(model_name, voc, pairs, encoder, decoder, encoder_optimizer, decoder_optimizer,\n",
    "           embedding, encoder_n_layers, decoder_n_layers, save_dir, n_iteration, batch_size,\n",
    "           print_every, save_every, clip, corpus_name, loadFilename)"
   ]
  },
  {
   "cell_type": "markdown",
   "id": "endangered-rogers",
   "metadata": {},
   "source": [
    "### Plot graph"
   ]
  },
  {
   "cell_type": "code",
   "execution_count": null,
   "id": "failing-bracelet",
   "metadata": {},
   "outputs": [],
   "source": [
    "import matplotlib.pyplot as plt\n",
    "plt.plot(lossvalues)\n",
    "plt.show()"
   ]
  },
  {
   "cell_type": "markdown",
   "id": "behind-draft",
   "metadata": {},
   "source": [
    "## Bleu score Calculation"
   ]
  },
  {
   "cell_type": "code",
   "execution_count": null,
   "id": "architectural-reference",
   "metadata": {},
   "outputs": [],
   "source": [
    "# Set dropout layers to eval mode\n",
    "encoder.eval()\n",
    "decoder.eval()\n",
    "\n",
    "# Initialize search module\n",
    "from nltk.translate.bleu_score import sentence_bleu,corpus_bleu\n",
    "from nltk.translate.bleu_score import SmoothingFunction\n",
    "\n",
    "\n",
    "searcher = BeamSearchDecoder(encoder, decoder, voc, 10)\n",
    "gram1_bleu_score = []\n",
    "gram2_bleu_score = []\n",
    "# print(len(testpairs))\n",
    "for i in range(0,len(testpairs),1):\n",
    "    input_sentence = testpairs[i][0]\n",
    "  \n",
    "    reference = testpairs[i][1:]\n",
    "    templist = []\n",
    "    for k in range(len(reference)):\n",
    "        if(reference[k]!=''):\n",
    "            temp = reference[k].split(' ')\n",
    "            templist.append(temp)\n",
    "  \n",
    "  \n",
    "    input_sentence = normalizeString(input_sentence)\n",
    "    output_words = evaluate(encoder, decoder, searcher, voc, input_sentence)\n",
    "    output_words[:] = [x for x in output_words if not (x == 'EOS' or x == 'PAD')]\n",
    "    chencherry = SmoothingFunction()\n",
    "#   print(output_words)\n",
    "#   print(templist)\n",
    "    score1 = sentence_bleu(templist,output_words,weights=(1, 0, 0, 0) ,smoothing_function=chencherry.method1)\n",
    "    score2 = sentence_bleu(templist,output_words,weights=(0.5, 0.5, 0, 0),smoothing_function=chencherry.method1) \n",
    "    gram1_bleu_score.append(score1)\n",
    "    gram2_bleu_score.append(score2)\n",
    "    if i%1000 == 0:\n",
    "        print(i,sum(gram1_bleu_score)/len(gram1_bleu_score),sum(gram2_bleu_score)/len(gram2_bleu_score))\n",
    "print(\"Total Bleu Score for 1 grams on testing pairs: \", sum(gram1_bleu_score)/len(gram1_bleu_score) )  \n",
    "print(\"Total Bleu Score for 2 grams on testing pairs: \", sum(gram2_bleu_score)/len(gram2_bleu_score) )"
   ]
  },
  {
   "cell_type": "code",
   "execution_count": null,
   "id": "helpful-grain",
   "metadata": {},
   "outputs": [],
   "source": [
    "# Set dropout layers to eval mode\n",
    "encoder.eval()\n",
    "decoder.eval()\n",
    "\n",
    "# Initialize search module\n",
    "searcher = GreedySearchDecoder(encoder, decoder)\n",
    "\n",
    "# Begin chatting (uncomment and run the following line to begin)\n",
    "evaluateInput(encoder, decoder, searcher, voc)"
   ]
  }
 ],
 "metadata": {
  "kernelspec": {
   "display_name": "Python 3",
   "language": "python",
   "name": "python3"
  },
  "language_info": {
   "codemirror_mode": {
    "name": "ipython",
    "version": 3
   },
   "file_extension": ".py",
   "mimetype": "text/x-python",
   "name": "python",
   "nbconvert_exporter": "python",
   "pygments_lexer": "ipython3",
   "version": "3.6.9"
  }
 },
 "nbformat": 4,
 "nbformat_minor": 5
}
